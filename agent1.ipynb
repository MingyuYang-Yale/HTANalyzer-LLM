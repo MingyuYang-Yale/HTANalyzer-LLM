{
 "cells": [
  {
   "cell_type": "markdown",
   "id": "YCi0SWp3TnHl",
   "metadata": {
    "id": "YCi0SWp3TnHl"
   },
   "source": [
    "# Agent 1\n",
    "\n",
    "Agent 1 focuses on downloading the data / feed information to train the LLM to be able to handle queries related to HTAN spatial transcriptomics data using prompt engineering. The prompts include:\n",
    "\n",
    "* Example queries from HTAN community notebook related to spatial tx and scRNA-seq\n",
    "* Downloading HTAN spatial datasets from Synapse database. The downloaded files will be used by Agent 2, and can also be used directly by an end-user\n",
    "* We also obtained metadata information obtained from https://humantumoratlas.org/standard/spatial_transcriptomics.\n",
    "\n",
    "Once the prompts have been provided, we then run some generalized queries to validate our work\n",
    "\n",
    "In the future, we can envision expanding the prompts to include other data types and more example queries. We could also import the metadata of other data types including clinical etc (from https://humantumoratlas.org/standard/). The will enable us to build a robust agent that can handle a variety of different queries as accurately as possible.\n"
   ]
  },
  {
   "cell_type": "code",
   "execution_count": 31,
   "id": "qU5yhGERG5KXTudzh77T3qdR",
   "metadata": {
    "colab": {
     "base_uri": "https://localhost:8080/",
     "height": 1000
    },
    "executionInfo": {
     "elapsed": 7229,
     "status": "ok",
     "timestamp": 1731078799492,
     "user": {
      "displayName": "",
      "userId": ""
     },
     "user_tz": 300
    },
    "id": "qU5yhGERG5KXTudzh77T3qdR",
    "outputId": "a7e8c809-6ad6-4d06-d9cb-2539042d56f6",
    "tags": []
   },
   "outputs": [
    {
     "data": {
      "text/html": [],
      "text/plain": [
       "<IPython.core.display.HTML object>"
      ]
     },
     "metadata": {},
     "output_type": "display_data"
    },
    {
     "name": "stdout",
     "output_type": "stream",
     "text": [
      "Requirement already satisfied: synapseclient in /usr/local/lib/python3.10/dist-packages (4.6.0)\n",
      "Requirement already satisfied: requests<3.0,>=2.22.0 in /usr/local/lib/python3.10/dist-packages (from synapseclient) (2.32.3)\n",
      "Requirement already satisfied: urllib3<2,>=1.26.18 in /usr/local/lib/python3.10/dist-packages (from synapseclient) (1.26.20)\n",
      "Requirement already satisfied: deprecated<2.0,>=1.2.4 in /usr/local/lib/python3.10/dist-packages (from synapseclient) (1.2.14)\n",
      "Requirement already satisfied: opentelemetry-api>=1.21.0 in /usr/local/lib/python3.10/dist-packages (from synapseclient) (1.28.0)\n",
      "Requirement already satisfied: opentelemetry-sdk>=1.21.0 in /usr/local/lib/python3.10/dist-packages (from synapseclient) (1.28.0)\n",
      "Requirement already satisfied: opentelemetry-exporter-otlp-proto-http>=1.21.0 in /usr/local/lib/python3.10/dist-packages (from synapseclient) (1.28.0)\n",
      "Requirement already satisfied: opentelemetry-instrumentation-httpx>=0.48b0 in /usr/local/lib/python3.10/dist-packages (from synapseclient) (0.49b0)\n",
      "Requirement already satisfied: opentelemetry-instrumentation-requests>=0.48b0 in /usr/local/lib/python3.10/dist-packages (from synapseclient) (0.49b0)\n",
      "Requirement already satisfied: opentelemetry-instrumentation-threading>=0.48b0 in /usr/local/lib/python3.10/dist-packages (from synapseclient) (0.49b0)\n",
      "Requirement already satisfied: opentelemetry-instrumentation-urllib>=0.48b0 in /usr/local/lib/python3.10/dist-packages (from synapseclient) (0.49b0)\n",
      "Requirement already satisfied: nest-asyncio~=1.6.0 in /usr/local/lib/python3.10/dist-packages (from synapseclient) (1.6.0)\n",
      "Requirement already satisfied: asyncio-atexit~=1.0.1 in /usr/local/lib/python3.10/dist-packages (from synapseclient) (1.0.1)\n",
      "Requirement already satisfied: httpx~=0.27.0 in /usr/local/lib/python3.10/dist-packages (from synapseclient) (0.27.2)\n",
      "Requirement already satisfied: tqdm<5.0,>=4.66.2 in /usr/local/lib/python3.10/dist-packages (from synapseclient) (4.66.5)\n",
      "Requirement already satisfied: async-lru~=2.0.4 in /usr/local/lib/python3.10/dist-packages (from synapseclient) (2.0.4)\n",
      "Requirement already satisfied: psutil~=5.9.8 in /usr/local/lib/python3.10/dist-packages (from synapseclient) (5.9.8)\n",
      "Requirement already satisfied: typing-extensions>=4.0.0 in /usr/local/lib/python3.10/dist-packages (from async-lru~=2.0.4->synapseclient) (4.12.2)\n",
      "Requirement already satisfied: wrapt<2,>=1.10 in /usr/local/lib/python3.10/dist-packages (from deprecated<2.0,>=1.2.4->synapseclient) (1.16.0)\n",
      "Requirement already satisfied: anyio in /usr/local/lib/python3.10/dist-packages (from httpx~=0.27.0->synapseclient) (3.7.1)\n",
      "Requirement already satisfied: certifi in /usr/local/lib/python3.10/dist-packages (from httpx~=0.27.0->synapseclient) (2024.8.30)\n",
      "Requirement already satisfied: httpcore==1.* in /usr/local/lib/python3.10/dist-packages (from httpx~=0.27.0->synapseclient) (1.0.6)\n",
      "Requirement already satisfied: idna in /usr/local/lib/python3.10/dist-packages (from httpx~=0.27.0->synapseclient) (3.10)\n",
      "Requirement already satisfied: sniffio in /usr/local/lib/python3.10/dist-packages (from httpx~=0.27.0->synapseclient) (1.3.1)\n",
      "Requirement already satisfied: h11<0.15,>=0.13 in /usr/local/lib/python3.10/dist-packages (from httpcore==1.*->httpx~=0.27.0->synapseclient) (0.14.0)\n",
      "Requirement already satisfied: importlib-metadata<=8.5.0,>=6.0 in /usr/local/lib/python3.10/dist-packages (from opentelemetry-api>=1.21.0->synapseclient) (8.5.0)\n",
      "Requirement already satisfied: googleapis-common-protos~=1.52 in /usr/local/lib/python3.10/dist-packages (from opentelemetry-exporter-otlp-proto-http>=1.21.0->synapseclient) (1.65.0)\n",
      "Requirement already satisfied: opentelemetry-exporter-otlp-proto-common==1.28.0 in /usr/local/lib/python3.10/dist-packages (from opentelemetry-exporter-otlp-proto-http>=1.21.0->synapseclient) (1.28.0)\n",
      "Requirement already satisfied: opentelemetry-proto==1.28.0 in /usr/local/lib/python3.10/dist-packages (from opentelemetry-exporter-otlp-proto-http>=1.21.0->synapseclient) (1.28.0)\n",
      "Requirement already satisfied: protobuf<6.0,>=5.0 in /usr/local/lib/python3.10/dist-packages (from opentelemetry-proto==1.28.0->opentelemetry-exporter-otlp-proto-http>=1.21.0->synapseclient) (5.28.3)\n",
      "Requirement already satisfied: opentelemetry-instrumentation==0.49b0 in /usr/local/lib/python3.10/dist-packages (from opentelemetry-instrumentation-httpx>=0.48b0->synapseclient) (0.49b0)\n",
      "Requirement already satisfied: opentelemetry-semantic-conventions==0.49b0 in /usr/local/lib/python3.10/dist-packages (from opentelemetry-instrumentation-httpx>=0.48b0->synapseclient) (0.49b0)\n",
      "Requirement already satisfied: opentelemetry-util-http==0.49b0 in /usr/local/lib/python3.10/dist-packages (from opentelemetry-instrumentation-httpx>=0.48b0->synapseclient) (0.49b0)\n",
      "Requirement already satisfied: packaging>=18.0 in /usr/local/lib/python3.10/dist-packages (from opentelemetry-instrumentation==0.49b0->opentelemetry-instrumentation-httpx>=0.48b0->synapseclient) (24.1)\n",
      "Requirement already satisfied: charset-normalizer<4,>=2 in /usr/local/lib/python3.10/dist-packages (from requests<3.0,>=2.22.0->synapseclient) (3.4.0)\n",
      "Requirement already satisfied: zipp>=3.20 in /usr/local/lib/python3.10/dist-packages (from importlib-metadata<=8.5.0,>=6.0->opentelemetry-api>=1.21.0->synapseclient) (3.20.2)\n",
      "Requirement already satisfied: exceptiongroup in /usr/local/lib/python3.10/dist-packages (from anyio->httpx~=0.27.0->synapseclient) (1.2.2)\n",
      "Requirement already satisfied: gcsfs in /usr/local/lib/python3.10/dist-packages (2024.6.1)\n",
      "Requirement already satisfied: aiohttp!=4.0.0a0,!=4.0.0a1 in /usr/local/lib/python3.10/dist-packages (from gcsfs) (3.10.10)\n",
      "Requirement already satisfied: decorator>4.1.2 in /usr/local/lib/python3.10/dist-packages (from gcsfs) (4.4.2)\n",
      "Requirement already satisfied: fsspec==2024.6.1 in /usr/local/lib/python3.10/dist-packages (from gcsfs) (2024.6.1)\n",
      "Requirement already satisfied: google-auth>=1.2 in /usr/local/lib/python3.10/dist-packages (from gcsfs) (2.27.0)\n",
      "Requirement already satisfied: google-auth-oauthlib in /usr/local/lib/python3.10/dist-packages (from gcsfs) (1.2.1)\n",
      "Requirement already satisfied: google-cloud-storage in /usr/local/lib/python3.10/dist-packages (from gcsfs) (2.8.0)\n",
      "Requirement already satisfied: requests in /usr/local/lib/python3.10/dist-packages (from gcsfs) (2.32.3)\n",
      "Requirement already satisfied: aiohappyeyeballs>=2.3.0 in /usr/local/lib/python3.10/dist-packages (from aiohttp!=4.0.0a0,!=4.0.0a1->gcsfs) (2.4.3)\n",
      "Requirement already satisfied: aiosignal>=1.1.2 in /usr/local/lib/python3.10/dist-packages (from aiohttp!=4.0.0a0,!=4.0.0a1->gcsfs) (1.3.1)\n",
      "Requirement already satisfied: attrs>=17.3.0 in /usr/local/lib/python3.10/dist-packages (from aiohttp!=4.0.0a0,!=4.0.0a1->gcsfs) (24.2.0)\n",
      "Requirement already satisfied: frozenlist>=1.1.1 in /usr/local/lib/python3.10/dist-packages (from aiohttp!=4.0.0a0,!=4.0.0a1->gcsfs) (1.4.1)\n",
      "Requirement already satisfied: multidict<7.0,>=4.5 in /usr/local/lib/python3.10/dist-packages (from aiohttp!=4.0.0a0,!=4.0.0a1->gcsfs) (6.1.0)\n",
      "Requirement already satisfied: yarl<2.0,>=1.12.0 in /usr/local/lib/python3.10/dist-packages (from aiohttp!=4.0.0a0,!=4.0.0a1->gcsfs) (1.16.0)\n",
      "Requirement already satisfied: async-timeout<5.0,>=4.0 in /usr/local/lib/python3.10/dist-packages (from aiohttp!=4.0.0a0,!=4.0.0a1->gcsfs) (4.0.3)\n",
      "Requirement already satisfied: cachetools<6.0,>=2.0.0 in /usr/local/lib/python3.10/dist-packages (from google-auth>=1.2->gcsfs) (5.5.0)\n",
      "Requirement already satisfied: pyasn1-modules>=0.2.1 in /usr/local/lib/python3.10/dist-packages (from google-auth>=1.2->gcsfs) (0.4.1)\n",
      "Requirement already satisfied: rsa<5,>=3.1.4 in /usr/local/lib/python3.10/dist-packages (from google-auth>=1.2->gcsfs) (4.9)\n",
      "Requirement already satisfied: requests-oauthlib>=0.7.0 in /usr/local/lib/python3.10/dist-packages (from google-auth-oauthlib->gcsfs) (1.3.1)\n",
      "Requirement already satisfied: google-api-core!=2.0.*,!=2.1.*,!=2.2.*,!=2.3.0,<3.0.0dev,>=1.31.5 in /usr/local/lib/python3.10/dist-packages (from google-cloud-storage->gcsfs) (2.19.2)\n",
      "Requirement already satisfied: google-cloud-core<3.0dev,>=2.3.0 in /usr/local/lib/python3.10/dist-packages (from google-cloud-storage->gcsfs) (2.4.1)\n",
      "Requirement already satisfied: google-resumable-media>=2.3.2 in /usr/local/lib/python3.10/dist-packages (from google-cloud-storage->gcsfs) (2.7.2)\n",
      "Requirement already satisfied: charset-normalizer<4,>=2 in /usr/local/lib/python3.10/dist-packages (from requests->gcsfs) (3.4.0)\n",
      "Requirement already satisfied: idna<4,>=2.5 in /usr/local/lib/python3.10/dist-packages (from requests->gcsfs) (3.10)\n",
      "Requirement already satisfied: urllib3<3,>=1.21.1 in /usr/local/lib/python3.10/dist-packages (from requests->gcsfs) (1.26.20)\n",
      "Requirement already satisfied: certifi>=2017.4.17 in /usr/local/lib/python3.10/dist-packages (from requests->gcsfs) (2024.8.30)\n",
      "Requirement already satisfied: googleapis-common-protos<2.0.dev0,>=1.56.2 in /usr/local/lib/python3.10/dist-packages (from google-api-core!=2.0.*,!=2.1.*,!=2.2.*,!=2.3.0,<3.0.0dev,>=1.31.5->google-cloud-storage->gcsfs) (1.65.0)\n",
      "Requirement already satisfied: protobuf!=3.20.0,!=3.20.1,!=4.21.0,!=4.21.1,!=4.21.2,!=4.21.3,!=4.21.4,!=4.21.5,<6.0.0.dev0,>=3.19.5 in /usr/local/lib/python3.10/dist-packages (from google-api-core!=2.0.*,!=2.1.*,!=2.2.*,!=2.3.0,<3.0.0dev,>=1.31.5->google-cloud-storage->gcsfs) (5.28.3)\n",
      "Requirement already satisfied: proto-plus<2.0.0dev,>=1.22.3 in /usr/local/lib/python3.10/dist-packages (from google-api-core!=2.0.*,!=2.1.*,!=2.2.*,!=2.3.0,<3.0.0dev,>=1.31.5->google-cloud-storage->gcsfs) (1.24.0)\n",
      "Requirement already satisfied: google-crc32c<2.0dev,>=1.0 in /usr/local/lib/python3.10/dist-packages (from google-resumable-media>=2.3.2->google-cloud-storage->gcsfs) (1.6.0)\n",
      "Requirement already satisfied: typing-extensions>=4.1.0 in /usr/local/lib/python3.10/dist-packages (from multidict<7.0,>=4.5->aiohttp!=4.0.0a0,!=4.0.0a1->gcsfs) (4.12.2)\n",
      "Requirement already satisfied: pyasn1<0.7.0,>=0.4.6 in /usr/local/lib/python3.10/dist-packages (from pyasn1-modules>=0.2.1->google-auth>=1.2->gcsfs) (0.6.1)\n",
      "Requirement already satisfied: oauthlib>=3.0.0 in /usr/local/lib/python3.10/dist-packages (from requests-oauthlib>=0.7.0->google-auth-oauthlib->gcsfs) (3.2.2)\n",
      "Requirement already satisfied: propcache>=0.2.0 in /usr/local/lib/python3.10/dist-packages (from yarl<2.0,>=1.12.0->aiohttp!=4.0.0a0,!=4.0.0a1->gcsfs) (0.2.0)\n"
     ]
    }
   ],
   "source": [
    "!pip install synapseclient\n",
    "!pip install gcsfs"
   ]
  },
  {
   "cell_type": "markdown",
   "id": "jNHXHwzwMSw1",
   "metadata": {
    "id": "jNHXHwzwMSw1"
   },
   "source": [
    "## Import necessary packages\n",
    "\n",
    "Here we use Google Cloud Vertex AI, which is a machine learning (ML) platform that allows users to train and deploy ML models and AI applications."
   ]
  },
  {
   "cell_type": "code",
   "execution_count": 46,
   "id": "uGVL_n-kc7ra",
   "metadata": {
    "colab": {
     "base_uri": "https://localhost:8080/",
     "height": 34
    },
    "executionInfo": {
     "elapsed": 149,
     "status": "ok",
     "timestamp": 1731080883608,
     "user": {
      "displayName": "",
      "userId": ""
     },
     "user_tz": 300
    },
    "id": "uGVL_n-kc7ra",
    "outputId": "dd2e8733-fd4b-4249-eec3-c84652706c3c"
   },
   "outputs": [
    {
     "data": {
      "text/html": [],
      "text/plain": [
       "<IPython.core.display.HTML object>"
      ]
     },
     "metadata": {},
     "output_type": "display_data"
    },
    {
     "name": "stdout",
     "output_type": "stream",
     "text": [
      "2024.6.1\n"
     ]
    }
   ],
   "source": [
    "print(gcsfs.__version__)"
   ]
  },
  {
   "cell_type": "code",
   "execution_count": 2,
   "id": "_qEZe_kiZYvd",
   "metadata": {
    "executionInfo": {
     "elapsed": 128,
     "status": "ok",
     "timestamp": 1731077587689,
     "user": {
      "displayName": "",
      "userId": ""
     },
     "user_tz": 300
    },
    "id": "_qEZe_kiZYvd"
   },
   "outputs": [],
   "source": [
    "import re, io, sys"
   ]
  },
  {
   "cell_type": "code",
   "execution_count": 3,
   "id": "Te7k0F13EICY",
   "metadata": {
    "executionInfo": {
     "elapsed": 7319,
     "status": "ok",
     "timestamp": 1731077597006,
     "user": {
      "displayName": "",
      "userId": ""
     },
     "user_tz": 300
    },
    "id": "Te7k0F13EICY"
   },
   "outputs": [],
   "source": [
    "import base64\n",
    "import vertexai\n",
    "from vertexai.generative_models import GenerativeModel, Part, SafetySetting"
   ]
  },
  {
   "cell_type": "code",
   "execution_count": 4,
   "id": "Hxh9c5cjVU8U",
   "metadata": {
    "executionInfo": {
     "elapsed": 2,
     "status": "ok",
     "timestamp": 1731077597006,
     "user": {
      "displayName": "",
      "userId": ""
     },
     "user_tz": 300
    },
    "id": "Hxh9c5cjVU8U"
   },
   "outputs": [],
   "source": [
    "from IPython.display import HTML, Markdown\n",
    "\n",
    "def set_css_in_cell_output(unused):\n",
    "  display(HTML(\"\"\"\"\"\"))\n",
    "\n",
    "get_ipython().events.register('pre_run_cell', set_css_in_cell_output)\n"
   ]
  },
  {
   "cell_type": "code",
   "execution_count": 32,
   "id": "o5RtmS6UVlRt",
   "metadata": {
    "colab": {
     "base_uri": "https://localhost:8080/",
     "height": 17
    },
    "executionInfo": {
     "elapsed": 547,
     "status": "ok",
     "timestamp": 1731078817357,
     "user": {
      "displayName": "",
      "userId": ""
     },
     "user_tz": 300
    },
    "id": "o5RtmS6UVlRt",
    "outputId": "fae81cf9-85f1-4696-8552-952c0f36763a"
   },
   "outputs": [
    {
     "data": {
      "text/html": [],
      "text/plain": [
       "<IPython.core.display.HTML object>"
      ]
     },
     "metadata": {},
     "output_type": "display_data"
    }
   ],
   "source": [
    "import gcsfs"
   ]
  },
  {
   "cell_type": "markdown",
   "id": "CpzkdpPpMvxK",
   "metadata": {
    "id": "CpzkdpPpMvxK"
   },
   "source": [
    "## Synapse client\n",
    "\n",
    "In order for the agent to download a dataset of interest from Synapse (h5 files) via the Synape's API client, we need to\n",
    "* Import respective packages\n",
    "* The user needs to generate a token from their own Synapse account. Create a Synapse account and generate a personal authentication token with full view, download, and modify permissions here: https://accounts.synapse.org/authenticated/personalaccesstokens\n"
   ]
  },
  {
   "cell_type": "markdown",
   "id": "83E8zNQaThja",
   "metadata": {
    "id": "83E8zNQaThja"
   },
   "source": [
    "## Token for accessing Synapse API"
   ]
  },
  {
   "cell_type": "code",
   "execution_count": 5,
   "id": "aBo6yI-pBUUd",
   "metadata": {
    "colab": {
     "base_uri": "https://localhost:8080/",
     "height": 17
    },
    "executionInfo": {
     "elapsed": 949,
     "status": "ok",
     "timestamp": 1731077597953,
     "user": {
      "displayName": "",
      "userId": ""
     },
     "user_tz": 300
    },
    "id": "aBo6yI-pBUUd",
    "outputId": "8fb5dd27-d2e2-44e4-a4ce-c8d774b9d826"
   },
   "outputs": [
    {
     "data": {
      "text/html": [],
      "text/plain": [
       "<IPython.core.display.HTML object>"
      ]
     },
     "metadata": {},
     "output_type": "display_data"
    }
   ],
   "source": [
    "# Synapse client for data access\n",
    "import synapseclient\n",
    "from synapseclient import Synapse"
   ]
  },
  {
   "cell_type": "markdown",
   "id": "VocyJLiSWAo2",
   "metadata": {
    "id": "VocyJLiSWAo2"
   },
   "source": [
    "#### Enter token here"
   ]
  },
  {
   "cell_type": "code",
   "execution_count": null,
   "id": "EJAiYKqkOkf5",
   "metadata": {
    "colab": {
     "base_uri": "https://localhost:8080/",
     "height": 86
    },
    "executionInfo": {
     "elapsed": 1429,
     "status": "ok",
     "timestamp": 1731077600704,
     "user": {
      "displayName": "",
      "userId": ""
     },
     "user_tz": 300
    },
    "id": "EJAiYKqkOkf5",
    "outputId": "fe82ce55-8852-4e45-9599-f91e109b9db1"
   },
   "outputs": [
    {
     "data": {
      "text/html": [],
      "text/plain": [
       "<IPython.core.display.HTML object>"
      ]
     },
     "metadata": {},
     "output_type": "display_data"
    },
    {
     "name": "stdout",
     "output_type": "stream",
     "text": [
      "Welcome, krithika.b!\n",
      "\n"
     ]
    },
    {
     "name": "stderr",
     "output_type": "stream",
     "text": [
      "INFO:synapseclient_default:Welcome, krithika.b!\n",
      "\n"
     ]
    }
   ],
   "source": [
    "token1=\"\" # enter token1 here\n",
    "syn = synapseclient.login(authToken=token1)"
   ]
  },
  {
   "cell_type": "markdown",
   "id": "74X_nNQfTb2C",
   "metadata": {
    "id": "74X_nNQfTb2C"
   },
   "source": [
    "## Mounting google drive to see if we can access any data from there"
   ]
  },
  {
   "cell_type": "code",
   "execution_count": 7,
   "id": "JzAI8zBENuU_",
   "metadata": {
    "colab": {
     "base_uri": "https://localhost:8080/",
     "height": 17
    },
    "executionInfo": {
     "elapsed": 1193,
     "status": "ok",
     "timestamp": 1731077607264,
     "user": {
      "displayName": "",
      "userId": ""
     },
     "user_tz": 300
    },
    "id": "JzAI8zBENuU_",
    "outputId": "859c2f0f-1872-4e85-8035-268e614783e3"
   },
   "outputs": [
    {
     "data": {
      "text/html": [],
      "text/plain": [
       "<IPython.core.display.HTML object>"
      ]
     },
     "metadata": {},
     "output_type": "display_data"
    }
   ],
   "source": [
    "# Google BigQuery and data handling\n",
    "import pandas as pd\n",
    "from google.cloud import bigquery\n",
    "import pandas_gbq  # To read BigQuery data into pandas DataFrames"
   ]
  },
  {
   "cell_type": "markdown",
   "id": "tod6jWT2NwF-",
   "metadata": {
    "id": "tod6jWT2NwF-"
   },
   "source": [
    "## Import spatial tx metadata.\n",
    "\n",
    "This information was originally obtained from https://humantumoratlas.org/standard/spatial_transcriptomics and formatted.\n",
    "\n",
    "The formatted file is avaiable in Google Drive in this location: HTAN Jamboree > spatiAlyticsLLM > HTAN_ST_metadata_ad.tsv, and uploaded to a google bucket as well and imported here.\n",
    "\n",
    "Future work could involve loading all HTAN metadata to a google cloud bucket, and using the `gsutils` package to import all those files here"
   ]
  },
  {
   "cell_type": "code",
   "execution_count": 33,
   "id": "9PV6yTibS8Od",
   "metadata": {
    "colab": {
     "base_uri": "https://localhost:8080/",
     "height": 206
    },
    "executionInfo": {
     "elapsed": 446,
     "status": "ok",
     "timestamp": 1731078822334,
     "user": {
      "displayName": "",
      "userId": ""
     },
     "user_tz": 300
    },
    "id": "9PV6yTibS8Od",
    "outputId": "9abb65b2-a9e2-445b-d9af-1f2034d4e369"
   },
   "outputs": [
    {
     "data": {
      "text/html": [],
      "text/plain": [
       "<IPython.core.display.HTML object>"
      ]
     },
     "metadata": {},
     "output_type": "display_data"
    },
    {
     "data": {
      "text/html": [
       "\n",
       "  <div id=\"df-920044cf-200d-4a5a-bf66-cdb8d188cab7\" class=\"colab-df-container\">\n",
       "    <div>\n",
       "<style scoped>\n",
       "    .dataframe tbody tr th:only-of-type {\n",
       "        vertical-align: middle;\n",
       "    }\n",
       "\n",
       "    .dataframe tbody tr th {\n",
       "        vertical-align: top;\n",
       "    }\n",
       "\n",
       "    .dataframe thead th {\n",
       "        text-align: right;\n",
       "    }\n",
       "</style>\n",
       "<table border=\"1\" class=\"dataframe\">\n",
       "  <thead>\n",
       "    <tr style=\"text-align: right;\">\n",
       "      <th></th>\n",
       "      <th>Attribute:</th>\n",
       "      <th>Description</th>\n",
       "    </tr>\n",
       "  </thead>\n",
       "  <tbody>\n",
       "    <tr>\n",
       "      <th>0</th>\n",
       "      <td>Filename:</td>\n",
       "      <td>Name of a file</td>\n",
       "    </tr>\n",
       "    <tr>\n",
       "      <th>1</th>\n",
       "      <td>Run ID:</td>\n",
       "      <td>A unique identifier for this individual run (t...</td>\n",
       "    </tr>\n",
       "    <tr>\n",
       "      <th>2</th>\n",
       "      <td>File Format:</td>\n",
       "      <td>Format of a file (e.g. txt, csv, fastq, bam, e...</td>\n",
       "    </tr>\n",
       "    <tr>\n",
       "      <th>3</th>\n",
       "      <td>HTAN Parent Biospecimen ID:</td>\n",
       "      <td>HTAN Biospecimen Identifier (eg HTANx_yyy_zzz)...</td>\n",
       "    </tr>\n",
       "    <tr>\n",
       "      <th>4</th>\n",
       "      <td>HTAN Data File ID:</td>\n",
       "      <td>Self-identifier for this data file - HTAN ID o...</td>\n",
       "    </tr>\n",
       "  </tbody>\n",
       "</table>\n",
       "</div>\n",
       "    <div class=\"colab-df-buttons\">\n",
       "\n",
       "  <div class=\"colab-df-container\">\n",
       "    <button class=\"colab-df-convert\" onclick=\"convertToInteractive('df-920044cf-200d-4a5a-bf66-cdb8d188cab7')\"\n",
       "            title=\"Convert this dataframe to an interactive table.\"\n",
       "            style=\"display:none;\">\n",
       "\n",
       "  <svg xmlns=\"http://www.w3.org/2000/svg\" height=\"24px\" viewBox=\"0 -960 960 960\">\n",
       "    <path d=\"M120-120v-720h720v720H120Zm60-500h600v-160H180v160Zm220 220h160v-160H400v160Zm0 220h160v-160H400v160ZM180-400h160v-160H180v160Zm440 0h160v-160H620v160ZM180-180h160v-160H180v160Zm440 0h160v-160H620v160Z\"/>\n",
       "  </svg>\n",
       "    </button>\n",
       "\n",
       "  <style>\n",
       "    .colab-df-container {\n",
       "      display:flex;\n",
       "      gap: 12px;\n",
       "    }\n",
       "\n",
       "    .colab-df-convert {\n",
       "      background-color: #E8F0FE;\n",
       "      border: none;\n",
       "      border-radius: 50%;\n",
       "      cursor: pointer;\n",
       "      display: none;\n",
       "      fill: #1967D2;\n",
       "      height: 32px;\n",
       "      padding: 0 0 0 0;\n",
       "      width: 32px;\n",
       "    }\n",
       "\n",
       "    .colab-df-convert:hover {\n",
       "      background-color: #E2EBFA;\n",
       "      box-shadow: 0px 1px 2px rgba(60, 64, 67, 0.3), 0px 1px 3px 1px rgba(60, 64, 67, 0.15);\n",
       "      fill: #174EA6;\n",
       "    }\n",
       "\n",
       "    .colab-df-buttons div {\n",
       "      margin-bottom: 4px;\n",
       "    }\n",
       "\n",
       "    [theme=dark] .colab-df-convert {\n",
       "      background-color: #3B4455;\n",
       "      fill: #D2E3FC;\n",
       "    }\n",
       "\n",
       "    [theme=dark] .colab-df-convert:hover {\n",
       "      background-color: #434B5C;\n",
       "      box-shadow: 0px 1px 3px 1px rgba(0, 0, 0, 0.15);\n",
       "      filter: drop-shadow(0px 1px 2px rgba(0, 0, 0, 0.3));\n",
       "      fill: #FFFFFF;\n",
       "    }\n",
       "  </style>\n",
       "\n",
       "    <script>\n",
       "      const buttonEl =\n",
       "        document.querySelector('#df-920044cf-200d-4a5a-bf66-cdb8d188cab7 button.colab-df-convert');\n",
       "      buttonEl.style.display =\n",
       "        google.colab.kernel.accessAllowed ? 'block' : 'none';\n",
       "\n",
       "      async function convertToInteractive(key) {\n",
       "        const element = document.querySelector('#df-920044cf-200d-4a5a-bf66-cdb8d188cab7');\n",
       "        const dataTable =\n",
       "          await google.colab.kernel.invokeFunction('convertToInteractive',\n",
       "                                                    [key], {});\n",
       "        if (!dataTable) return;\n",
       "\n",
       "        const docLinkHtml = 'Like what you see? Visit the ' +\n",
       "          '<a target=\"_blank\" href=https://colab.research.google.com/notebooks/data_table.ipynb>data table notebook</a>'\n",
       "          + ' to learn more about interactive tables.';\n",
       "        element.innerHTML = '';\n",
       "        dataTable['output_type'] = 'display_data';\n",
       "        await google.colab.output.renderOutput(dataTable, element);\n",
       "        const docLink = document.createElement('div');\n",
       "        docLink.innerHTML = docLinkHtml;\n",
       "        element.appendChild(docLink);\n",
       "      }\n",
       "    </script>\n",
       "  </div>\n",
       "\n",
       "\n",
       "<div id=\"df-b07f32cb-0770-4562-b338-851b6dbf381d\">\n",
       "  <button class=\"colab-df-quickchart\" onclick=\"quickchart('df-b07f32cb-0770-4562-b338-851b6dbf381d')\"\n",
       "            title=\"Suggest charts\"\n",
       "            style=\"display:none;\">\n",
       "\n",
       "<svg xmlns=\"http://www.w3.org/2000/svg\" height=\"24px\"viewBox=\"0 0 24 24\"\n",
       "     width=\"24px\">\n",
       "    <g>\n",
       "        <path d=\"M19 3H5c-1.1 0-2 .9-2 2v14c0 1.1.9 2 2 2h14c1.1 0 2-.9 2-2V5c0-1.1-.9-2-2-2zM9 17H7v-7h2v7zm4 0h-2V7h2v10zm4 0h-2v-4h2v4z\"/>\n",
       "    </g>\n",
       "</svg>\n",
       "  </button>\n",
       "\n",
       "<style>\n",
       "  .colab-df-quickchart {\n",
       "      --bg-color: #E8F0FE;\n",
       "      --fill-color: #1967D2;\n",
       "      --hover-bg-color: #E2EBFA;\n",
       "      --hover-fill-color: #174EA6;\n",
       "      --disabled-fill-color: #AAA;\n",
       "      --disabled-bg-color: #DDD;\n",
       "  }\n",
       "\n",
       "  [theme=dark] .colab-df-quickchart {\n",
       "      --bg-color: #3B4455;\n",
       "      --fill-color: #D2E3FC;\n",
       "      --hover-bg-color: #434B5C;\n",
       "      --hover-fill-color: #FFFFFF;\n",
       "      --disabled-bg-color: #3B4455;\n",
       "      --disabled-fill-color: #666;\n",
       "  }\n",
       "\n",
       "  .colab-df-quickchart {\n",
       "    background-color: var(--bg-color);\n",
       "    border: none;\n",
       "    border-radius: 50%;\n",
       "    cursor: pointer;\n",
       "    display: none;\n",
       "    fill: var(--fill-color);\n",
       "    height: 32px;\n",
       "    padding: 0;\n",
       "    width: 32px;\n",
       "  }\n",
       "\n",
       "  .colab-df-quickchart:hover {\n",
       "    background-color: var(--hover-bg-color);\n",
       "    box-shadow: 0 1px 2px rgba(60, 64, 67, 0.3), 0 1px 3px 1px rgba(60, 64, 67, 0.15);\n",
       "    fill: var(--button-hover-fill-color);\n",
       "  }\n",
       "\n",
       "  .colab-df-quickchart-complete:disabled,\n",
       "  .colab-df-quickchart-complete:disabled:hover {\n",
       "    background-color: var(--disabled-bg-color);\n",
       "    fill: var(--disabled-fill-color);\n",
       "    box-shadow: none;\n",
       "  }\n",
       "\n",
       "  .colab-df-spinner {\n",
       "    border: 2px solid var(--fill-color);\n",
       "    border-color: transparent;\n",
       "    border-bottom-color: var(--fill-color);\n",
       "    animation:\n",
       "      spin 1s steps(1) infinite;\n",
       "  }\n",
       "\n",
       "  @keyframes spin {\n",
       "    0% {\n",
       "      border-color: transparent;\n",
       "      border-bottom-color: var(--fill-color);\n",
       "      border-left-color: var(--fill-color);\n",
       "    }\n",
       "    20% {\n",
       "      border-color: transparent;\n",
       "      border-left-color: var(--fill-color);\n",
       "      border-top-color: var(--fill-color);\n",
       "    }\n",
       "    30% {\n",
       "      border-color: transparent;\n",
       "      border-left-color: var(--fill-color);\n",
       "      border-top-color: var(--fill-color);\n",
       "      border-right-color: var(--fill-color);\n",
       "    }\n",
       "    40% {\n",
       "      border-color: transparent;\n",
       "      border-right-color: var(--fill-color);\n",
       "      border-top-color: var(--fill-color);\n",
       "    }\n",
       "    60% {\n",
       "      border-color: transparent;\n",
       "      border-right-color: var(--fill-color);\n",
       "    }\n",
       "    80% {\n",
       "      border-color: transparent;\n",
       "      border-right-color: var(--fill-color);\n",
       "      border-bottom-color: var(--fill-color);\n",
       "    }\n",
       "    90% {\n",
       "      border-color: transparent;\n",
       "      border-bottom-color: var(--fill-color);\n",
       "    }\n",
       "  }\n",
       "</style>\n",
       "\n",
       "  <script>\n",
       "    async function quickchart(key) {\n",
       "      const quickchartButtonEl =\n",
       "        document.querySelector('#' + key + ' button');\n",
       "      quickchartButtonEl.disabled = true;  // To prevent multiple clicks.\n",
       "      quickchartButtonEl.classList.add('colab-df-spinner');\n",
       "      try {\n",
       "        const charts = await google.colab.kernel.invokeFunction(\n",
       "            'suggestCharts', [key], {});\n",
       "      } catch (error) {\n",
       "        console.error('Error during call to suggestCharts:', error);\n",
       "      }\n",
       "      quickchartButtonEl.classList.remove('colab-df-spinner');\n",
       "      quickchartButtonEl.classList.add('colab-df-quickchart-complete');\n",
       "    }\n",
       "    (() => {\n",
       "      let quickchartButtonEl =\n",
       "        document.querySelector('#df-b07f32cb-0770-4562-b338-851b6dbf381d button');\n",
       "      quickchartButtonEl.style.display =\n",
       "        google.colab.kernel.accessAllowed ? 'block' : 'none';\n",
       "    })();\n",
       "  </script>\n",
       "</div>\n",
       "    </div>\n",
       "  </div>\n"
      ],
      "text/plain": [
       "                    Attribute:  \\\n",
       "0                    Filename:   \n",
       "1                      Run ID:   \n",
       "2                 File Format:   \n",
       "3  HTAN Parent Biospecimen ID:   \n",
       "4           HTAN Data File ID:   \n",
       "\n",
       "                                         Description  \n",
       "0                                     Name of a file  \n",
       "1  A unique identifier for this individual run (t...  \n",
       "2  Format of a file (e.g. txt, csv, fastq, bam, e...  \n",
       "3  HTAN Biospecimen Identifier (eg HTANx_yyy_zzz)...  \n",
       "4  Self-identifier for this data file - HTAN ID o...  "
      ]
     },
     "execution_count": 33,
     "metadata": {},
     "output_type": "execute_result"
    }
   ],
   "source": [
    "# Specify the path to the uploaded file\n",
    "##metadata_df = pd.read_csv('/content/HTAN_ST_metadata_ad.tsv', sep='\\t')  # Use sep='\\t' for TSV files\n",
    "\n",
    "# Display the dataframe\n",
    "metadata_df.head()\n",
    "\n",
    "# Path to your GCS file\n",
    "file_path = 'gs://htan_st_datasets/HTAN_ST_metadata_ad.tsv'\n",
    "\n",
    "# Create a GCS filesystem object\n",
    "fs = gcsfs.GCSFileSystem()\n",
    "\n",
    "# Load the TSV file directly from GCS\n",
    "with fs.open(file_path) as f:\n",
    "    metadata_df = pd.read_csv(f, sep='\\t')\n",
    "\n",
    "# Display the first few rows of the dataframe\n",
    "metadata_df.head()"
   ]
  },
  {
   "cell_type": "markdown",
   "id": "yd-gn55tO2WW",
   "metadata": {
    "id": "yd-gn55tO2WW"
   },
   "source": [
    "## Select google cloud project name (and hence credits) on which this agent will run  "
   ]
  },
  {
   "cell_type": "code",
   "execution_count": 9,
   "id": "d9kb9xRPEX1N",
   "metadata": {
    "colab": {
     "base_uri": "https://localhost:8080/",
     "height": 17
    },
    "executionInfo": {
     "elapsed": 116,
     "status": "ok",
     "timestamp": 1731077877770,
     "user": {
      "displayName": "",
      "userId": ""
     },
     "user_tz": 300
    },
    "id": "d9kb9xRPEX1N",
    "outputId": "76db9fea-9be3-4eaa-a09d-3bcdadcce5e7"
   },
   "outputs": [
    {
     "data": {
      "text/html": [],
      "text/plain": [
       "<IPython.core.display.HTML object>"
      ]
     },
     "metadata": {},
     "output_type": "display_data"
    }
   ],
   "source": [
    "PROJECT_ID = \"isb-cgc-external-004\"\n",
    "LOCATION = \"us-central1\""
   ]
  },
  {
   "cell_type": "markdown",
   "id": "DX3j_iouQHzz",
   "metadata": {
    "id": "DX3j_iouQHzz"
   },
   "source": [
    "## Import and Initilaze the Gen AI Model"
   ]
  },
  {
   "cell_type": "code",
   "execution_count": 10,
   "id": "X0c1Y09iYJzD",
   "metadata": {
    "colab": {
     "base_uri": "https://localhost:8080/",
     "height": 17
    },
    "executionInfo": {
     "elapsed": 153,
     "status": "ok",
     "timestamp": 1731077882640,
     "user": {
      "displayName": "",
      "userId": ""
     },
     "user_tz": 300
    },
    "id": "X0c1Y09iYJzD",
    "outputId": "41258d08-f964-45b1-ba4c-b27ff0bd586f"
   },
   "outputs": [
    {
     "data": {
      "text/html": [],
      "text/plain": [
       "<IPython.core.display.HTML object>"
      ]
     },
     "metadata": {},
     "output_type": "display_data"
    }
   ],
   "source": [
    "import vertexai\n",
    "vertexai.init(project=PROJECT_ID, location=LOCATION)\n",
    "from vertexai.preview import reasoning_engines"
   ]
  },
  {
   "cell_type": "markdown",
   "id": "Ds16TITrPo32",
   "metadata": {
    "id": "Ds16TITrPo32"
   },
   "source": [
    "## General settings and prompt engineering\n",
    "\n",
    "Adding restrictions and saftey settings for the prompt\n",
    "* `max_output` controls the output size\n",
    "* `temperature`: is hyperparamter that controls the hallucination ability. Temp=1 more expressive (new ideas), Temp=0 more deterministic as possible .\n",
    "* `top_p` : likelihood score\n",
    "\n",
    "Within the `generate()` function, we give example queries and solutions for the model to understand how to respond to similar queries. This is called\n",
    "**zero shot prompting**\n"
   ]
  },
  {
   "cell_type": "code",
   "execution_count": 57,
   "id": "qhnOrkXrYMxQ",
   "metadata": {
    "colab": {
     "base_uri": "https://localhost:8080/",
     "height": 17
    },
    "executionInfo": {
     "elapsed": 117,
     "status": "ok",
     "timestamp": 1731081220445,
     "user": {
      "displayName": "",
      "userId": ""
     },
     "user_tz": 300
    },
    "id": "qhnOrkXrYMxQ",
    "outputId": "78dfe097-df86-470a-fc20-7a9dda3e2490"
   },
   "outputs": [
    {
     "data": {
      "text/html": [],
      "text/plain": [
       "<IPython.core.display.HTML object>"
      ]
     },
     "metadata": {},
     "output_type": "display_data"
    }
   ],
   "source": [
    "generation_config = {\n",
    "    \"max_output_tokens\": 8192,\n",
    "    \"temperature\": 0.5,\n",
    "    \"top_p\": 0.95,\n",
    "}\n",
    "\n",
    "safety_settings = [\n",
    "    SafetySetting(\n",
    "        category=SafetySetting.HarmCategory.HARM_CATEGORY_HATE_SPEECH,\n",
    "        threshold=SafetySetting.HarmBlockThreshold.OFF\n",
    "    ),\n",
    "    SafetySetting(\n",
    "        category=SafetySetting.HarmCategory.HARM_CATEGORY_DANGEROUS_CONTENT,\n",
    "        threshold=SafetySetting.HarmBlockThreshold.OFF\n",
    "    ),\n",
    "    SafetySetting(\n",
    "        category=SafetySetting.HarmCategory.HARM_CATEGORY_SEXUALLY_EXPLICIT,\n",
    "        threshold=SafetySetting.HarmBlockThreshold.OFF\n",
    "    ),\n",
    "    SafetySetting(\n",
    "        category=SafetySetting.HarmCategory.HARM_CATEGORY_HARASSMENT,\n",
    "        threshold=SafetySetting.HarmBlockThreshold.OFF\n",
    "    ),\n",
    "]\n",
    "\n",
    "def generate(question = \"\"\"What can you do?\"\"\"):\n",
    "\n",
    "    ## General prompt\n",
    "    prompt = f\"\"\"\n",
    "    You are a bioinformatics expert coder using the Human Tumor Network Atlas (HTAN)\n",
    "    datasets via Google Cloud and Jupyter. You can write Python code to answer\n",
    "    questions by writing BigQuery queries, pandas, scanpy, and squidpy code.\n",
    "    When a user asks a question, identify whether you need to write any code to\n",
    "    answer.\n",
    "    Very important: !! For any general questions and conversations,\n",
    "    you can answer with a conversation. For any questions that needs the code,\n",
    "    just write and return the Python code enclosed in ```python``` tags so that\n",
    "    the user can regex extract the code easily.\n",
    "    You do not have to access any data. You are an expert coder, just write the\n",
    "    code. When you're asked to load a dataset, use BigQuery to load it.\n",
    "\n",
    "    Include all the necessary import packages to run the code. If using any\n",
    "    Google Cloud services, you can use:\n",
    "    project_id = \"isb-cgc-external-004\"\n",
    "\n",
    "    Here are some examples:\n",
    "\n",
    "    Question: Can you load the cells from the HTAN biospecimen HTA7_1_3?\n",
    "    Answer:\n",
    "    '''\n",
    "    query = '''\n",
    "    WITH cells AS (\n",
    "      SELECT  CellID, X_centroid, Y_centroid,\n",
    "      FROM `isb-cgc-bq.HTAN.imaging_level4_HMS_mel_mask_current`\n",
    "      WHERE HTAN_Biospecimen_ID = 'HTA7_1_3'\n",
    "    )\n",
    "    SELECT CellID, X_centroid,  Y_centroid\n",
    "    FROM cells\n",
    "    '''\n",
    "    df = pandas_gbq.read_gbq(query, project_id=project_id)\n",
    "    '''\n",
    "\n",
    "\n",
    "    \"\"\"\n",
    "\n",
    "\n",
    "\n",
    "    #### Synapse data download : Example 1\n",
    "\n",
    "    prompt += f\"\"\"\n",
    "    Question: Can you load the entityId of all data under HTAN.10xvisium_spatialtranscriptomics_scRNAseq_level4_metadata_current\n",
    "    where the File_Format is hdf5?\n",
    "\n",
    "    Answer:\n",
    "    '''\n",
    "    import pandas_gbq\n",
    "    from google.cloud import bigquery\n",
    "\n",
    "    project_id = \"isb-cgc-external-004\"\n",
    "\n",
    "    query = '''\n",
    "    SELECT entityId\n",
    "    FROM `isb-cgc-bq.HTAN.10xvisium_spatialtranscriptomics_scRNAseq_level4_metadata_current`\n",
    "    WHERE File_Format = 'hdf5'\n",
    "    '''\n",
    "\n",
    "    df = pandas_gbq.read_gbq(query, project_id=project_id)\n",
    "    '''\n",
    "\n",
    "    \"\"\"\n",
    "\n",
    "    ##  Synapse data download example 2\n",
    "\n",
    "    prompt += f\"\"\"\n",
    "    Question: Can you download the synapse data 'syn51133602' to /content/datasets/?\n",
    "    Answer:\n",
    "    '''\n",
    "    import synapseclient\n",
    "    syn = synapseclient.login()\n",
    "    entity = syn.get('syn51133602', downloadLocation='/content/datasets')\n",
    "    '''\n",
    "\n",
    "    \"\"\"\n",
    "\n",
    "    ### Spatial tx example 1\n",
    "\n",
    "    prompt += f\"\"\"\n",
    "    Question: Can you categorize cells within a defined spatial region as either 'Tumor' or 'Other' based on threshold expression levels of specific markers (SOX10_cellRingMask, S100B_cellRingMask, and CD63_cellRingMask)?\n",
    "    Answer:\n",
    "    '''\n",
    "    query = '''\n",
    "      WITH cells AS (\n",
    "      SELECT CellID, X_centroid, Y_centroid,\n",
    "      IF (SOX10_cellRingMask > 3704.5 AND (S100B_cellRingMask > 7589.48 OR CD63_cellRingMask > 570.68),\n",
    "      'Tumor', 'Other') AS celltype\n",
    "      FROM `isb-cgc-bq.HTAN.imaging_level4_HMS_mel_mask_current`\n",
    "      WHERE HTAN_Biospecimen_ID = 'HTA7_1_3')\n",
    "\n",
    "      SELECT CellID, X_centroid, Y_centroid, celltype\n",
    "      FROM cells\n",
    "      WHERE X_centroid > 23076.9 AND X_centroid < 30384.6\n",
    "      AND Y_centroid > 9615.3 AND Y_centroid < 15000\n",
    "      '''\n",
    "\n",
    "    \"\"\"\n",
    "\n",
    "    ### Spatial tx example 2\n",
    "    prompt += f\"\"\"\n",
    "    Question: Can you classify cells as 'Tumor' or 'Other', convert their pixel coordinates to geospatial points, and calculate distances between cell pairs that are within a 20-micrometer proximity threshold\n",
    "    Answer:\n",
    "    query = '''\n",
    "      WITH geodat AS (\n",
    "      SELECT CellID, X_centroid, Y_centroid,\n",
    "      IF (SOX10_cellRingMask > 3704.5 AND (S100B_cellRingMask > 7589.48 OR CD63_cellRingMask > 570.68),\n",
    "      'Tumor', 'Other') AS celltype,\n",
    "      ST_GeogPoint(X_centroid / 368570, Y_centroid / 368570) AS p\n",
    "      FROM `isb-cgc-bq.HTAN.imaging_level4_HMS_mel_mask_current`\n",
    "      WHERE HTAN_Biospecimen_ID = 'HTA7_1_3'\n",
    "      )\n",
    "    SELECT t1.CellID, t1.X_centroid, t1.Y_centroid, t1.p, t1.celltype,\n",
    "    t2.CellID AS CellID_1, t2.X_centroid AS X_centroid_1, t2.Y_centroid AS Y_centroid_1, t2.p AS p_1, t2.celltype AS celltype_1,\n",
    "    ST_Distance(t1.p, t2.p) AS Distance\n",
    "    FROM geodat AS t1\n",
    "    JOIN geodat AS t2\n",
    "    ON ST_DWithin(t1.p, t2.p, 9.29324770787722)\n",
    "    '''\n",
    "\n",
    "\n",
    "    \"\"\"\n",
    "\n",
    "    ### Spatial tx example 3\n",
    "    prompt += f\"\"\"\n",
    "    Question: For each tumor cell within the specified spatial region, calculate the number of neighboring tumor cells\n",
    "    Answer:\n",
    "    query = '''\n",
    "      WITH cellp AS (\n",
    "      SELECT CellID, celltype, CellID_1, celltype_1\n",
    "      FROM `isb-cgc-bq.temp15432.Melanoma_CyCIF_HTA7_1_3_points_within_20um`\n",
    "      WHERE X_centroid > 23076.9 AND X_centroid < 30384.6\n",
    "      AND Y_centroid > 9615.3 AND Y_centroid < 15000)\n",
    "\n",
    "      SELECT CellID, COUNTIF(celltype_1 = 'Tumor') - 1 AS N_Tumor_Cells\n",
    "      FROM cellp\n",
    "      WHERE celltype = 'Tumor'\n",
    "      GROUP BY CellID\n",
    "    '''\n",
    "\n",
    "    \"\"\"\n",
    "\n",
    "\n",
    "    ## Metadata\n",
    "    # Create a prompt with the file content included\n",
    "    prompt += f\"\"\"\n",
    "    The HTAN metadata contains a subset of these type of attributes. Also included\n",
    "    is a description of these attributes. Internalize this information and use it\n",
    "    to answer any queries related to metadata.\n",
    "\n",
    "    Metadata Description:\n",
    "    {metadata_df}\n",
    "\n",
    "    Question: Which attributes describe the spatial location of cells?\n",
    "    Answer:\n",
    "\n",
    "    \"\"\"\n",
    "\n",
    "\n",
    "\n",
    "    ## ScRNAseq example 1\n",
    "    prompt += f\"\"\"\n",
    "    Question: What are the counts of unique cells, sex groupings, samples,\n",
    "    cell types, and therapies by development stage in the MSK scRNAseq dataset?\n",
    "    Answer:\n",
    "    '''\n",
    "    query = '''\n",
    "    SELECT\n",
    "      development_stage,\n",
    "      count(distinct(iObs)) AS Number_Cells,\n",
    "      count(distinct(sex)) AS Unique_Sex_Grouping,\n",
    "      count(distinct(donor_id)) AS Number_Samples,\n",
    "      count(distinct(cell_type)) AS Number_Cell_Types,\n",
    "      count(distinct(treatment)) AS Number_Therapies\n",
    "    FROM\n",
    "      `isb-cgc-bq.HTAN.scRNAseq_MSK_SCLC_combined_samples_current`\n",
    "    GROUP BY development_stage\n",
    "    ORDER BY Number_Samples DESC\n",
    "    '''\n",
    "    df = pandas_gbq.read_gbq(query, project_id=project_id)\n",
    "    '''\n",
    "\n",
    "    \"\"\"\n",
    "\n",
    "    ## ScRNAseq example 2\n",
    "    prompt += f\"\"\"\n",
    "    Question: How many unique cell types, sex groupings, cells, and samples\n",
    "    are present in the a specific human stage of development in the MSK\n",
    "    scRNAseq dataset (e.g. 74-year-old)?\n",
    "    Answer:\n",
    "    '''\n",
    "    query = '''\n",
    "    SELECT\n",
    "      cell_type,\n",
    "      count(distinct(sex)) AS Unique_Sex_Grouping,\n",
    "      count(distinct(iObs)) AS Number_Cells,\n",
    "      count(distinct(donor_id)) AS Number_Samples\n",
    "    FROM\n",
    "      `isb-cgc-bq.HTAN.scRNAseq_MSK_SCLC_combined_samples_current`\n",
    "    WHERE\n",
    "      development_stage = '74-year-old human stage'\n",
    "    GROUP BY cell_type\n",
    "    '''\n",
    "    df = pandas_gbq.read_gbq(query, project_id=project_id)\n",
    "    '''\n",
    "\n",
    "    \"\"\"\n",
    "\n",
    "    ## ScRNAseq example 3\n",
    "    prompt += f\"\"\"\n",
    "    Question: How many genes and cells are associated with each sex and\n",
    "    cell type in the MSK scRNAseq dataset for an individual\n",
    "    (e.g. a 74-year-old human stage)?\n",
    "    Answer:\n",
    "    '''\n",
    "    query = '''\n",
    "    SELECT\n",
    "      sex,\n",
    "      Cell_Type,\n",
    "      count(distinct(feature_name)) AS Number_Genes,\n",
    "      count(distinct(iObs)) AS Number_Cells\n",
    "    FROM\n",
    "      `isb-cgc-bq.HTAN.scRNAseq_MSK_SCLC_combined_samples_current`\n",
    "    WHERE development_stage = '74-year-old human stage'\n",
    "    GROUP BY sex, Cell_Type\n",
    "    ORDER BY Cell_Type DESC\n",
    "    '''\n",
    "    df = pandas_gbq.read_gbq(query, project_id=project_id)\n",
    "    '''\n",
    "\n",
    "    \"\"\"\n",
    "\n",
    "    ## ScRNAseq example 4\n",
    "    prompt += f\"\"\"\n",
    "    Question: How many genes and cells are there in each Seurat Cluster\n",
    "    for males and females of the 'epithelial cell' type in the specific\n",
    "    human stage (here 74-year-old)?\n",
    "    Answer:\n",
    "    '''\n",
    "    query = '''\n",
    "    SELECT\n",
    "      sex,\n",
    "      clusters,\n",
    "      Cell_Type,\n",
    "      count(distinct(feature_name)) AS Number_Genes,\n",
    "      count(distinct(iObs)) AS Number_Cells\n",
    "    FROM\n",
    "      `isb-cgc-bq.HTAN.scRNAseq_MSK_SCLC_combined_samples_current`\n",
    "    WHERE development_stage = '74-year-old human stage' AND Cell_Type = 'epithelial cell'\n",
    "    GROUP BY sex, clusters, Cell_Type\n",
    "    ORDER BY clusters ASC\n",
    "    '''\n",
    "    df = pandas_gbq.read_gbq(query, project_id=project_id)\n",
    "    '''\n",
    "\n",
    "    \"\"\"\n",
    "\n",
    "   ## ScRNAseq example 5\n",
    "    prompt += f\"\"\"\n",
    "    Question: How do the average expression values for genes differ between\n",
    "    male and female epithelial cells in a specific cluster, and which genes\n",
    "    show the greatest differences (here cluster 41 of the 74-year-old\n",
    "    human stage)?\n",
    "    Answer:\n",
    "    '''\n",
    "    query = '''\n",
    "    SELECT\n",
    "      A.feature_name,\n",
    "      A.avg_counts_clust10 AS female_avg_counts,\n",
    "      B.avg_counts_clust10 AS male_avg_counts,\n",
    "      A.avg_counts_clust10 - B.avg_counts_clust10 AS mean_diff\n",
    "    FROM (\n",
    "      SELECT\n",
    "        feature_name,\n",
    "        AVG(X_value) AS avg_counts_clust10\n",
    "      FROM\n",
    "        `isb-cgc-bq.HTAN.scRNAseq_MSK_SCLC_combined_samples_current`\n",
    "      WHERE development_stage = '74-year-old human stage' AND Cell_Type = 'epithelial cell' AND clusters = '41' AND sex = 'female'\n",
    "      GROUP BY feature_name\n",
    "    ) AS A\n",
    "    INNER JOIN (\n",
    "      SELECT\n",
    "        feature_name,\n",
    "        AVG(X_value) AS avg_counts_clust10\n",
    "      FROM\n",
    "        `isb-cgc-bq.HTAN.scRNAseq_MSK_SCLC_combined_samples_current`\n",
    "      WHERE development_stage = '74-year-old human stage' AND Cell_Type = 'epithelial cell' AND clusters = '41' AND sex = 'male'\n",
    "      GROUP BY feature_name\n",
    "    ) AS B\n",
    "    ON A.feature_name = B.feature_name\n",
    "    ORDER BY mean_diff DESC\n",
    "    '''\n",
    "    df = pandas_gbq.read_gbq(query, project_id=project_id)\n",
    "    '''\n",
    "\n",
    "    \"\"\"\n",
    "\n",
    "\n",
    "    # Add the dynamic user question and the placeholder for the answer\n",
    "    prompt += f\"\"\"\n",
    "    Question: {question}\n",
    "    Answer:\n",
    "    \"\"\"\n",
    "\n",
    "\n",
    "    # Model information and version\n",
    "    vertexai.init(project=\"isb-cgc-external-004\", location=\"us-central1\")\n",
    "    model = GenerativeModel(\n",
    "        \"gemini-1.5-flash-002\",\n",
    "    )\n",
    "\n",
    "    # Responses\n",
    "    responses = model.generate_content(\n",
    "        [prompt],\n",
    "        generation_config=generation_config,\n",
    "        safety_settings=safety_settings,\n",
    "        stream=False,\n",
    "        # tools='code_execution'\n",
    "    )\n",
    "\n",
    "    # for response in responses:\n",
    "    #     print(response.text, end=\"\")\n",
    "\n",
    "    pattern = r'```python\\n(.*?)\\n```'\n",
    "\n",
    "    # Extract the code\n",
    "    match = re.search(pattern, responses.text, re.DOTALL)\n",
    "\n",
    "    if match:\n",
    "        python_code = match.group(1).strip()\n",
    "        print(python_code)\n",
    "        return(python_code)\n",
    "\n",
    "    else:\n",
    "\n",
    "        print(responses)\n",
    "\n"
   ]
  },
  {
   "cell_type": "markdown",
   "id": "DGYewrIzQ1A1",
   "metadata": {
    "id": "DGYewrIzQ1A1"
   },
   "source": [
    "## Testing and validation\n",
    "\n",
    "Here we call the `generate()` function and give it a question. This question could be the same or similar to the questions used for training."
   ]
  },
  {
   "cell_type": "code",
   "execution_count": 25,
   "id": "GO8pCZGoZRAi",
   "metadata": {
    "colab": {
     "base_uri": "https://localhost:8080/",
     "height": 349
    },
    "executionInfo": {
     "elapsed": 1062,
     "status": "ok",
     "timestamp": 1731078287398,
     "user": {
      "displayName": "",
      "userId": ""
     },
     "user_tz": 300
    },
    "id": "GO8pCZGoZRAi",
    "outputId": "a7d08c1d-0092-4e51-ee89-389de8170d21"
   },
   "outputs": [
    {
     "data": {
      "text/html": [],
      "text/plain": [
       "<IPython.core.display.HTML object>"
      ]
     },
     "metadata": {},
     "output_type": "display_data"
    },
    {
     "name": "stdout",
     "output_type": "stream",
     "text": [
      "candidates {\n",
      "  content {\n",
      "    role: \"model\"\n",
      "    parts {\n",
      "      text: \"I am a bioinformatics expert coder specializing in analyzing the Human Tumor Network Atlas (HTAN) datasets using Google Cloud and Jupyter.  I can write Python code to answer your questions using BigQuery for data retrieval, pandas for data manipulation, scanpy for single-cell analysis, and squidpy for spatial analysis.  I can handle questions related to data loading, querying, analysis, and visualization.  Just ask!\\n\"\n",
      "    }\n",
      "  }\n",
      "  finish_reason: STOP\n",
      "  avg_logprobs: -0.083603741140926585\n",
      "}\n",
      "usage_metadata {\n",
      "  prompt_token_count: 3147\n",
      "  candidates_token_count: 85\n",
      "  total_token_count: 3232\n",
      "}\n",
      "model_version: \"gemini-1.5-flash-002\"\n",
      "\n",
      "None\n"
     ]
    }
   ],
   "source": [
    "# Test 1\n",
    "code=generate('Who are you and what can you do?')\n",
    "print(code)"
   ]
  },
  {
   "cell_type": "code",
   "execution_count": 15,
   "id": "UeL84jhjYxpm",
   "metadata": {
    "colab": {
     "base_uri": "https://localhost:8080/",
     "height": 277
    },
    "executionInfo": {
     "elapsed": 980,
     "status": "ok",
     "timestamp": 1731077934221,
     "user": {
      "displayName": "",
      "userId": ""
     },
     "user_tz": 300
    },
    "id": "UeL84jhjYxpm",
    "outputId": "7e2f22a2-ba23-4776-ed89-79dea19425ea"
   },
   "outputs": [
    {
     "data": {
      "text/html": [],
      "text/plain": [
       "<IPython.core.display.HTML object>"
      ]
     },
     "metadata": {},
     "output_type": "display_data"
    },
    {
     "name": "stdout",
     "output_type": "stream",
     "text": [
      "import pandas_gbq\n",
      "\n",
      "project_id = \"isb-cgc-external-004\"\n",
      "\n",
      "query = \"\"\"\n",
      "WITH cells AS (\n",
      "  SELECT  CellID, X_centroid, Y_centroid,\n",
      "  FROM `isb-cgc-bq.HTAN.imaging_level4_HMS_mel_mask_current`\n",
      "  WHERE HTAN_Biospecimen_ID = 'HTA7_1_3'\n",
      ")\n",
      "SELECT CellID, X_centroid,  Y_centroid\n",
      "FROM cells\n",
      "\"\"\"\n",
      "\n",
      "df = pandas_gbq.read_gbq(query, project_id=project_id)\n"
     ]
    }
   ],
   "source": [
    "# Test 2\n",
    "code=generate(\"Can you load the cells from the HTAN biospecimen HTA7_1_3?\")"
   ]
  },
  {
   "cell_type": "code",
   "execution_count": 16,
   "id": "dBZS1gGQZji_",
   "metadata": {
    "colab": {
     "base_uri": "https://localhost:8080/",
     "height": 52
    },
    "executionInfo": {
     "elapsed": 45487,
     "status": "ok",
     "timestamp": 1731077981348,
     "user": {
      "displayName": "",
      "userId": ""
     },
     "user_tz": 300
    },
    "id": "dBZS1gGQZji_",
    "outputId": "28e7372d-a9b5-45a9-87fd-e5dba8e3d451"
   },
   "outputs": [
    {
     "data": {
      "text/html": [],
      "text/plain": [
       "<IPython.core.display.HTML object>"
      ]
     },
     "metadata": {},
     "output_type": "display_data"
    },
    {
     "name": "stdout",
     "output_type": "stream",
     "text": [
      "WARNING: google.colab.auth.authenticate_user() is not supported in Colab Enterprise.\n",
      "Downloading: 100%|\u001b[32m██████████\u001b[0m|\n"
     ]
    }
   ],
   "source": [
    "exec(code)"
   ]
  },
  {
   "cell_type": "code",
   "execution_count": 17,
   "id": "p6zoT7yqc8Nc",
   "metadata": {
    "colab": {
     "base_uri": "https://localhost:8080/",
     "height": 260
    },
    "executionInfo": {
     "elapsed": 138,
     "status": "ok",
     "timestamp": 1731077988227,
     "user": {
      "displayName": "",
      "userId": ""
     },
     "user_tz": 300
    },
    "id": "p6zoT7yqc8Nc",
    "outputId": "8ab70474-7ad4-42c7-cadf-393c01bc5808"
   },
   "outputs": [
    {
     "data": {
      "text/html": [],
      "text/plain": [
       "<IPython.core.display.HTML object>"
      ]
     },
     "metadata": {},
     "output_type": "display_data"
    },
    {
     "name": "stdout",
     "output_type": "stream",
     "text": [
      "          CellID    X_centroid    Y_centroid\n",
      "0         414954  12234.156425  11496.055866\n",
      "1         414965  17100.977778  11491.444444\n",
      "2         414982  20372.921053  11492.671053\n",
      "3         415004  30851.258170  11497.666667\n",
      "4         415185  10789.783784  11496.283784\n",
      "...          ...           ...           ...\n",
      "1110580  1099321  29743.450000  23012.790000\n",
      "1110581  1099373   8805.850649  23025.246753\n",
      "1110582  1099466  24451.210526  23035.491228\n",
      "1110583  1099530  29740.808511  23049.994681\n",
      "1110584  1099567  10085.244186  23054.709302\n",
      "\n",
      "[1110585 rows x 3 columns]\n"
     ]
    }
   ],
   "source": [
    "print(df)"
   ]
  },
  {
   "cell_type": "code",
   "execution_count": 18,
   "id": "StSCvi1rY9c7",
   "metadata": {
    "colab": {
     "base_uri": "https://localhost:8080/",
     "height": 295
    },
    "executionInfo": {
     "elapsed": 19380,
     "status": "ok",
     "timestamp": 1731078011104,
     "user": {
      "displayName": "",
      "userId": ""
     },
     "user_tz": 300
    },
    "id": "StSCvi1rY9c7",
    "outputId": "2c1105fc-1304-4348-eb5f-163a4804faaa"
   },
   "outputs": [
    {
     "data": {
      "text/html": [],
      "text/plain": [
       "<IPython.core.display.HTML object>"
      ]
     },
     "metadata": {},
     "output_type": "display_data"
    },
    {
     "name": "stdout",
     "output_type": "stream",
     "text": [
      "import pandas_gbq\n",
      "\n",
      "project_id = \"isb-cgc-external-004\"\n",
      "\n",
      "query = \"\"\"\n",
      "WITH cells AS (\n",
      "  SELECT  CellID, X_centroid, Y_centroid,\n",
      "  FROM `isb-cgc-bq.HTAN.imaging_level4_HMS_mel_mask_current`\n",
      "  WHERE HTAN_Biospecimen_ID = 'HTA7_8_2'\n",
      ")\n",
      "SELECT CellID, X_centroid,  Y_centroid\n",
      "FROM cells\n",
      "\"\"\"\n",
      "\n",
      "df = pandas_gbq.read_gbq(query, project_id=project_id)\n",
      "Downloading: 100%|\u001b[32m██████████\u001b[0m|\n"
     ]
    }
   ],
   "source": [
    "# Test 3\n",
    "code=generate(\"Can you load the cells from the HTAN biospecimen HTA7_8_2?\")\n",
    "exec(code)"
   ]
  },
  {
   "cell_type": "code",
   "execution_count": 19,
   "id": "reX7bQDVcyou",
   "metadata": {
    "colab": {
     "base_uri": "https://localhost:8080/",
     "height": 260
    },
    "executionInfo": {
     "elapsed": 120,
     "status": "ok",
     "timestamp": 1731078047215,
     "user": {
      "displayName": "",
      "userId": ""
     },
     "user_tz": 300
    },
    "id": "reX7bQDVcyou",
    "outputId": "a924a9fd-325b-4c13-ab8d-68bfd75d905d"
   },
   "outputs": [
    {
     "data": {
      "text/html": [],
      "text/plain": [
       "<IPython.core.display.HTML object>"
      ]
     },
     "metadata": {},
     "output_type": "display_data"
    },
    {
     "name": "stdout",
     "output_type": "stream",
     "text": [
      "        CellID    X_centroid    Y_centroid\n",
      "0       271194  28345.181303  22522.594901\n",
      "1       271210   8021.079452  22523.334247\n",
      "2       271276   6641.683544  22525.746835\n",
      "3       271353   5904.687980  22531.846547\n",
      "4       271388   4592.990741  22528.296296\n",
      "...        ...           ...           ...\n",
      "352915  270827   4276.356322  22506.913793\n",
      "352916  270863  10172.643750  22508.637500\n",
      "352917  270889  26049.331034  22509.006897\n",
      "352918  270893   5114.777778  22508.931624\n",
      "352919  271067  11497.290179  22517.410714\n",
      "\n",
      "[352920 rows x 3 columns]\n"
     ]
    }
   ],
   "source": [
    "print(df)"
   ]
  },
  {
   "cell_type": "code",
   "execution_count": 20,
   "id": "cErGMPtYdIT4",
   "metadata": {
    "colab": {
     "base_uri": "https://localhost:8080/",
     "height": 332
    },
    "executionInfo": {
     "elapsed": 1086,
     "status": "ok",
     "timestamp": 1731078065563,
     "user": {
      "displayName": "",
      "userId": ""
     },
     "user_tz": 300
    },
    "id": "cErGMPtYdIT4",
    "outputId": "79d0ffc8-a775-4395-f12a-c5ee09b675e5"
   },
   "outputs": [
    {
     "data": {
      "text/html": [],
      "text/plain": [
       "<IPython.core.display.HTML object>"
      ]
     },
     "metadata": {},
     "output_type": "display_data"
    },
    {
     "name": "stdout",
     "output_type": "stream",
     "text": [
      "candidates {\n",
      "  content {\n",
      "    role: \"model\"\n",
      "    parts {\n",
      "      text: \"The HTAN spatial transcriptomics metadata contains information about the spatial location of cells, including their coordinates, as well as other attributes like file names, run IDs, file formats, biospecimen IDs, and barcode information.  It also includes information about the experimental setup and processing parameters.  To get a precise list of attributes, you would need to query the metadata table directly.\\n\"\n",
      "    }\n",
      "  }\n",
      "  finish_reason: STOP\n",
      "  avg_logprobs: -0.228882325001252\n",
      "}\n",
      "usage_metadata {\n",
      "  prompt_token_count: 3155\n",
      "  candidates_token_count: 78\n",
      "  total_token_count: 3233\n",
      "}\n",
      "model_version: \"gemini-1.5-flash-002\"\n",
      "\n"
     ]
    }
   ],
   "source": [
    "## Test 3\n",
    "code=generate(\"What kind of information is captured in the HTAN spatial transcriptomics metadata file?\")"
   ]
  },
  {
   "cell_type": "code",
   "execution_count": 27,
   "id": "5OflnZZnusYl",
   "metadata": {
    "colab": {
     "base_uri": "https://localhost:8080/",
     "height": 332
    },
    "executionInfo": {
     "elapsed": 1248,
     "status": "ok",
     "timestamp": 1731078303766,
     "user": {
      "displayName": "",
      "userId": ""
     },
     "user_tz": 300
    },
    "id": "5OflnZZnusYl",
    "outputId": "5b19ca21-2643-404e-daae-ace9815744ca"
   },
   "outputs": [
    {
     "data": {
      "text/html": [],
      "text/plain": [
       "<IPython.core.display.HTML object>"
      ]
     },
     "metadata": {},
     "output_type": "display_data"
    },
    {
     "name": "stdout",
     "output_type": "stream",
     "text": [
      "candidates {\n",
      "  content {\n",
      "    role: \"model\"\n",
      "    parts {\n",
      "      text: \"The Synapse database contains a wide variety of data types relevant to biomedical research.  This includes, but is not limited to, genomic data (e.g., gene expression, DNA sequencing), clinical data (e.g., patient demographics, treatment information), imaging data, and metadata describing these datasets.  The specific contents vary depending on the projects and datasets stored within Synapse.  To get a precise answer about the contents of a specific Synapse ID, you would need to provide that ID.\\n\"\n",
      "    }\n",
      "  }\n",
      "  finish_reason: STOP\n",
      "  avg_logprobs: -0.15245282416250192\n",
      "}\n",
      "usage_metadata {\n",
      "  prompt_token_count: 3150\n",
      "  candidates_token_count: 102\n",
      "  total_token_count: 3252\n",
      "}\n",
      "model_version: \"gemini-1.5-flash-002\"\n",
      "\n"
     ]
    }
   ],
   "source": [
    "## Test 4\n",
    "code=generate(\"What kind of information is captured in the Synapse database?\")"
   ]
  },
  {
   "cell_type": "code",
   "execution_count": 28,
   "id": "AQJLm42G1PQL",
   "metadata": {
    "colab": {
     "base_uri": "https://localhost:8080/",
     "height": 312
    },
    "executionInfo": {
     "elapsed": 1449,
     "status": "ok",
     "timestamp": 1731078307528,
     "user": {
      "displayName": "",
      "userId": ""
     },
     "user_tz": 300
    },
    "id": "AQJLm42G1PQL",
    "outputId": "22f57562-44b4-40e2-c45e-5d0194e3e1f4"
   },
   "outputs": [
    {
     "data": {
      "text/html": [],
      "text/plain": [
       "<IPython.core.display.HTML object>"
      ]
     },
     "metadata": {},
     "output_type": "display_data"
    },
    {
     "name": "stdout",
     "output_type": "stream",
     "text": [
      "import pandas_gbq\n",
      "from google.cloud import bigquery\n",
      "\n",
      "project_id = \"isb-cgc-external-004\"\n",
      "\n",
      "query = \"\"\"\n",
      "SELECT\n",
      "    CellID,\n",
      "    CASE\n",
      "        WHEN CD63_cellRingMask > 570.68 THEN 'Tumor'\n",
      "        ELSE 'Other'\n",
      "    END AS cell_type\n",
      "FROM\n",
      "    `isb-cgc-bq.HTAN.imaging_level4_HMS_mel_mask_current`\n",
      "\"\"\"\n",
      "\n",
      "df = pandas_gbq.read_gbq(query, project_id=project_id)\n"
     ]
    }
   ],
   "source": [
    "### Test 6\n",
    "\n",
    "code=generate(\"Labels cells as 'Tumor' or 'Other' based on the expression of certain markers such as CD63_cellRingMask\")\n"
   ]
  },
  {
   "cell_type": "code",
   "execution_count": 29,
   "id": "d3ZWv0YH2xoa",
   "metadata": {
    "colab": {
     "base_uri": "https://localhost:8080/",
     "height": 277
    },
    "executionInfo": {
     "elapsed": 172823,
     "status": "ok",
     "timestamp": 1731078485623,
     "user": {
      "displayName": "",
      "userId": ""
     },
     "user_tz": 300
    },
    "id": "d3ZWv0YH2xoa",
    "outputId": "68178bc9-eb5d-43dd-da53-ae6691a11716"
   },
   "outputs": [
    {
     "data": {
      "text/html": [],
      "text/plain": [
       "<IPython.core.display.HTML object>"
      ]
     },
     "metadata": {},
     "output_type": "display_data"
    },
    {
     "name": "stdout",
     "output_type": "stream",
     "text": [
      "Downloading: 100%|\u001b[32m██████████\u001b[0m|\n",
      "         CellID cell_type\n",
      "0        271351     Other\n",
      "1        271535     Other\n",
      "2        271733     Other\n",
      "3        272229     Other\n",
      "4        272613     Other\n",
      "...         ...       ...\n",
      "6282743   83619     Other\n",
      "6282744  201761     Other\n",
      "6282745  450282     Other\n",
      "6282746   71082     Other\n",
      "6282747    5520     Other\n",
      "\n",
      "[6282748 rows x 2 columns]\n"
     ]
    }
   ],
   "source": [
    "exec(code)\n",
    "print(df)"
   ]
  },
  {
   "cell_type": "markdown",
   "id": "_3fWIzaoTvzF",
   "metadata": {
    "id": "_3fWIzaoTvzF"
   },
   "source": [
    "## More test questions"
   ]
  },
  {
   "cell_type": "code",
   "execution_count": 34,
   "id": "nyzVWG88_DEq",
   "metadata": {
    "colab": {
     "base_uri": "https://localhost:8080/",
     "height": 312
    },
    "executionInfo": {
     "elapsed": 48670,
     "status": "ok",
     "timestamp": 1731078921476,
     "user": {
      "displayName": "",
      "userId": ""
     },
     "user_tz": 300
    },
    "id": "nyzVWG88_DEq",
    "outputId": "3d215600-9203-4ad1-9a2a-12e6a82ceb3d"
   },
   "outputs": [
    {
     "data": {
      "text/html": [],
      "text/plain": [
       "<IPython.core.display.HTML object>"
      ]
     },
     "metadata": {},
     "output_type": "display_data"
    },
    {
     "name": "stdout",
     "output_type": "stream",
     "text": [
      "Question 1\n",
      "import pandas_gbq\n",
      "\n",
      "project_id = \"isb-cgc-external-004\"\n",
      "\n",
      "query = \"\"\"\n",
      "WITH cells AS (\n",
      "  SELECT  CellID, X_centroid, Y_centroid,\n",
      "  FROM `isb-cgc-bq.HTAN.imaging_level4_HMS_mel_mask_current`\n",
      "  WHERE HTAN_Biospecimen_ID = 'HTA7_1_3'\n",
      ")\n",
      "SELECT CellID, X_centroid,  Y_centroid\n",
      "FROM cells\n",
      "\"\"\"\n",
      "\n",
      "df = pandas_gbq.read_gbq(query, project_id=project_id)\n",
      "Downloading: 100%|\u001b[32m██████████\u001b[0m|\n"
     ]
    }
   ],
   "source": [
    "# Question 1\n",
    "print(\"Question 1\")\n",
    "code = generate(\"Can you load the cells from the HTAN biospecimen HTA7_1_3?\")\n",
    "exec(code)"
   ]
  },
  {
   "cell_type": "code",
   "execution_count": 35,
   "id": "XPYHHrFuT3nU",
   "metadata": {
    "colab": {
     "base_uri": "https://localhost:8080/",
     "height": 260
    },
    "executionInfo": {
     "elapsed": 1877,
     "status": "ok",
     "timestamp": 1731078923351,
     "user": {
      "displayName": "",
      "userId": ""
     },
     "user_tz": 300
    },
    "id": "XPYHHrFuT3nU",
    "outputId": "79086074-8b44-476e-e1ac-62963820d5e9"
   },
   "outputs": [
    {
     "data": {
      "text/html": [],
      "text/plain": [
       "<IPython.core.display.HTML object>"
      ]
     },
     "metadata": {},
     "output_type": "display_data"
    },
    {
     "name": "stdout",
     "output_type": "stream",
     "text": [
      "Question 2\n",
      "import pandas_gbq\n",
      "from google.cloud import bigquery\n",
      "\n",
      "project_id = \"isb-cgc-external-004\"\n",
      "\n",
      "query = '''\n",
      "SELECT entityId\n",
      "FROM `isb-cgc-bq.HTAN.10xvisium_spatialtranscriptomics_scRNAseq_level4_metadata_current`\n",
      "WHERE File_Format = 'hdf5'\n",
      "'''\n",
      "\n",
      "df = pandas_gbq.read_gbq(query, project_id=project_id)\n",
      "Downloading: 100%|\u001b[32m██████████\u001b[0m|\n"
     ]
    }
   ],
   "source": [
    "# Question 2\n",
    "print(\"Question 2\")\n",
    "code = generate(\"Can you load the entityId of all data under HTAN.10xvisium_spatialtranscriptomics_scRNAseq_level4_metadata_current where the File_Format is hdf5?\")\n",
    "exec(code)"
   ]
  },
  {
   "cell_type": "code",
   "execution_count": 47,
   "id": "8uX3ixJch_5i",
   "metadata": {
    "colab": {
     "base_uri": "https://localhost:8080/",
     "height": 86
    },
    "executionInfo": {
     "elapsed": 791,
     "status": "ok",
     "timestamp": 1731080904797,
     "user": {
      "displayName": "",
      "userId": ""
     },
     "user_tz": 300
    },
    "id": "8uX3ixJch_5i",
    "outputId": "174dc80f-3798-4caa-8d1e-b29b7346b2e3"
   },
   "outputs": [
    {
     "data": {
      "text/html": [],
      "text/plain": [
       "<IPython.core.display.HTML object>"
      ]
     },
     "metadata": {},
     "output_type": "display_data"
    },
    {
     "name": "stdout",
     "output_type": "stream",
     "text": [
      "import synapseclient\n",
      "\n",
      "syn = synapseclient.login()\n",
      "entity = syn.get('syn51133602', downloadLocation='/content/datasets')\n"
     ]
    }
   ],
   "source": [
    "# Question 3\n",
    "# Note this will work only if the synapse token is present\n",
    "code = generate(\"Can you download the synapse data 'syn51133602' to /content/datasets/?\")"
   ]
  },
  {
   "cell_type": "code",
   "execution_count": 37,
   "id": "y8azu6FyT5ZX",
   "metadata": {
    "colab": {
     "base_uri": "https://localhost:8080/",
     "height": 572
    },
    "executionInfo": {
     "elapsed": 13145,
     "status": "ok",
     "timestamp": 1731078937004,
     "user": {
      "displayName": "",
      "userId": ""
     },
     "user_tz": 300
    },
    "id": "y8azu6FyT5ZX",
    "outputId": "8eae0c2e-62c1-47d3-96e8-09bdb31c090e"
   },
   "outputs": [
    {
     "data": {
      "text/html": [],
      "text/plain": [
       "<IPython.core.display.HTML object>"
      ]
     },
     "metadata": {},
     "output_type": "display_data"
    },
    {
     "name": "stdout",
     "output_type": "stream",
     "text": [
      "Question 4\n",
      "import pandas_gbq\n",
      "\n",
      "project_id = \"isb-cgc-external-004\"\n",
      "\n",
      "query = \"\"\"\n",
      "WITH cells AS (\n",
      "  SELECT\n",
      "    CellID,\n",
      "    X_centroid,\n",
      "    Y_centroid,\n",
      "    CASE\n",
      "      WHEN SOX10_cellRingMask > 3704.5 AND (S100B_cellRingMask > 7589.48 OR CD63_cellRingMask > 570.68) THEN 'Tumor'\n",
      "      ELSE 'Other'\n",
      "    END AS celltype\n",
      "  FROM\n",
      "    `isb-cgc-bq.HTAN.imaging_level4_HMS_mel_mask_current`\n",
      "  WHERE HTAN_Biospecimen_ID = 'HTA7_1_3'\n",
      ")\n",
      "SELECT\n",
      "  CellID,\n",
      "  X_centroid,\n",
      "  Y_centroid,\n",
      "  celltype\n",
      "FROM\n",
      "  cells\n",
      "WHERE X_centroid > 23076.9 AND X_centroid < 30384.6\n",
      "  AND Y_centroid > 9615.3 AND Y_centroid < 15000\n",
      "\"\"\"\n",
      "\n",
      "df = pandas_gbq.read_gbq(query, project_id=project_id)\n",
      "Downloading: 100%|\u001b[32m██████████\u001b[0m|\n"
     ]
    }
   ],
   "source": [
    "# Question 4\n",
    "print(\"Question 4\")\n",
    "code = generate(\"Label cells as 'Tumor' or 'Other' based on the expression of certain markers (SOX10_cellRingMask, S100B_cellRingMask, and CD63_cellRingMask). Restricts the results to cells within a specific spatial region.\")\n",
    "exec(code)"
   ]
  },
  {
   "cell_type": "code",
   "execution_count": 38,
   "id": "PEvndiwLNLmi",
   "metadata": {
    "colab": {
     "base_uri": "https://localhost:8080/",
     "height": 853
    },
    "executionInfo": {
     "elapsed": 1883484,
     "status": "ok",
     "timestamp": 1731080820485,
     "user": {
      "displayName": "",
      "userId": ""
     },
     "user_tz": 300
    },
    "id": "PEvndiwLNLmi",
    "outputId": "7c36f110-024e-4127-87be-24485899a870"
   },
   "outputs": [
    {
     "data": {
      "text/html": [],
      "text/plain": [
       "<IPython.core.display.HTML object>"
      ]
     },
     "metadata": {},
     "output_type": "display_data"
    },
    {
     "name": "stdout",
     "output_type": "stream",
     "text": [
      "Question 5\n",
      "import pandas_gbq\n",
      "from google.cloud import bigquery\n",
      "\n",
      "project_id = \"isb-cgc-external-004\"\n",
      "\n",
      "query = \"\"\"\n",
      "WITH geodat AS (\n",
      "  SELECT\n",
      "    CellID,\n",
      "    X_centroid,\n",
      "    Y_centroid,\n",
      "    IF(\n",
      "      SOX10_cellRingMask > 3704.5\n",
      "      AND (S100B_cellRingMask > 7589.48 OR CD63_cellRingMask > 570.68),\n",
      "      'Tumor',\n",
      "      'Other'\n",
      "    ) AS celltype,\n",
      "    ST_GeogPoint(X_centroid / 368570, Y_centroid / 368570) AS p\n",
      "  FROM\n",
      "    `isb-cgc-bq.HTAN.imaging_level4_HMS_mel_mask_current`\n",
      "  WHERE HTAN_Biospecimen_ID = 'HTA7_1_3'\n",
      ")\n",
      "SELECT\n",
      "  t1.CellID,\n",
      "  t1.X_centroid,\n",
      "  t1.Y_centroid,\n",
      "  t1.p,\n",
      "  t1.celltype,\n",
      "  t2.CellID AS CellID_1,\n",
      "  t2.X_centroid AS X_centroid_1,\n",
      "  t2.Y_centroid AS Y_centroid_1,\n",
      "  t2.p AS p_1,\n",
      "  t2.celltype AS celltype_1,\n",
      "  ST_Distance(t1.p, t2.p) AS Distance\n",
      "FROM\n",
      "  geodat AS t1\n",
      "JOIN geodat AS t2 ON ST_DWithin(t1.p, t2.p, 9.29324770787722)\n",
      "\n",
      "\"\"\"\n",
      "\n",
      "df = pandas_gbq.read_gbq(query, project_id=project_id)\n"
     ]
    },
    {
     "name": "stderr",
     "output_type": "stream",
     "text": [
      "[WARNING] <string>:41: LargeResultsWarning: Recommendation: Your results are 1.9 GiB. Consider using BigQuery DataFrames (https://bit.ly/bigframes-intro)to process large results with pandas compatible APIs with transparent SQL pushdown to BigQuery engine. This provides an opportunity to save on costs and improve performance. Please reach out to bigframes-feedback@google.com with any questions or concerns. To disable this message, run warnings.simplefilter('ignore', category=pandas_gbq.exceptions.LargeResultsWarning)\n",
      "\n",
      "WARNING:py.warnings:<string>:41: LargeResultsWarning: Recommendation: Your results are 1.9 GiB. Consider using BigQuery DataFrames (https://bit.ly/bigframes-intro)to process large results with pandas compatible APIs with transparent SQL pushdown to BigQuery engine. This provides an opportunity to save on costs and improve performance. Please reach out to bigframes-feedback@google.com with any questions or concerns. To disable this message, run warnings.simplefilter('ignore', category=pandas_gbq.exceptions.LargeResultsWarning)\n",
      "\n"
     ]
    },
    {
     "name": "stdout",
     "output_type": "stream",
     "text": [
      "Downloading: 100%|\u001b[32m██████████\u001b[0m|\n"
     ]
    }
   ],
   "source": [
    "# Question 5\n",
    "print(\"Question 5\")\n",
    "code = generate(\"Labels cells as 'Tumor' or 'Other', and convert pixel coordinates to geospatial points. Calculate the distance between cell pairs that fall within a 20-micrometer threshold.\")\n",
    "exec(code)"
   ]
  },
  {
   "cell_type": "code",
   "execution_count": 65,
   "id": "dxjFyOwlT7qo",
   "metadata": {
    "colab": {
     "base_uri": "https://localhost:8080/",
     "height": 731
    },
    "executionInfo": {
     "elapsed": 3657,
     "status": "ok",
     "timestamp": 1731081623278,
     "user": {
      "displayName": "",
      "userId": ""
     },
     "user_tz": 300
    },
    "id": "dxjFyOwlT7qo",
    "outputId": "3dbc71f4-c2e9-49d6-df42-87fadb442c2b"
   },
   "outputs": [
    {
     "data": {
      "text/html": [],
      "text/plain": [
       "<IPython.core.display.HTML object>"
      ]
     },
     "metadata": {},
     "output_type": "display_data"
    },
    {
     "name": "stdout",
     "output_type": "stream",
     "text": [
      "Question 6\n",
      "import pandas_gbq\n",
      "from google.cloud import bigquery\n",
      "\n",
      "project_id = \"isb-cgc-external-004\"\n",
      "\n",
      "query = \"\"\"\n",
      "WITH geodat AS (\n",
      "    SELECT\n",
      "        CellID,\n",
      "        X_centroid,\n",
      "        Y_centroid,\n",
      "        IF(SOX10_cellRingMask > 3704.5 AND (S100B_cellRingMask > 7589.48 OR CD63_cellRingMask > 570.68), 'Tumor', 'Other') AS celltype,\n",
      "        ST_GeogPoint(X_centroid / 368570, Y_centroid / 368570) AS p\n",
      "    FROM\n",
      "        `isb-cgc-bq.HTAN.imaging_level4_HMS_mel_mask_current`\n",
      "    WHERE HTAN_Biospecimen_ID = 'HTA7_1_3'\n",
      "),\n",
      "neighbor_cells AS (\n",
      "    SELECT\n",
      "        t1.CellID,\n",
      "        t1.celltype,\n",
      "        t2.CellID AS neighbor_CellID,\n",
      "        t2.celltype AS neighbor_celltype,\n",
      "        ST_Distance(t1.p, t2.p) AS distance\n",
      "    FROM\n",
      "        geodat AS t1\n",
      "    INNER JOIN geodat AS t2 ON ST_DWithin(t1.p, t2.p, 9.29324770787722)\n",
      "    WHERE t1.celltype = 'Tumor'\n",
      ")\n",
      "SELECT\n",
      "    CellID,\n",
      "    COUNT(neighbor_CellID) -1 AS num_neighboring_tumor_cells\n",
      "FROM neighbor_cells\n",
      "WHERE neighbor_celltype = 'Tumor'\n",
      "GROUP BY CellID\n",
      "\n",
      "\"\"\"\n",
      "\n",
      "df = pandas_gbq.read_gbq(query, project_id=project_id)\n"
     ]
    }
   ],
   "source": [
    "# Question 6\n",
    "print(\"Question 6\")\n",
    "code = generate(\"Using the isb-cgc-bq.HTAN.imaging_level4_HMS_mel_mask_current table, calculate the number of neighboring tumor cells for each tumor cell within the spatial boundaries defined by X_centroid and Y_centroid. Use the CellID and celltype fields where celltype = 'Tumor' for calculations, and apply a 20-micrometer proximity threshold.\")"
   ]
  },
  {
   "cell_type": "code",
   "execution_count": 66,
   "id": "iN_2It4Fd-bQ",
   "metadata": {
    "colab": {
     "base_uri": "https://localhost:8080/",
     "height": 34
    },
    "executionInfo": {
     "elapsed": 23295,
     "status": "ok",
     "timestamp": 1731081649729,
     "user": {
      "displayName": "",
      "userId": ""
     },
     "user_tz": 300
    },
    "id": "iN_2It4Fd-bQ",
    "outputId": "2f2a872f-f343-4c11-8986-6f5ac8d26b47"
   },
   "outputs": [
    {
     "data": {
      "text/html": [],
      "text/plain": [
       "<IPython.core.display.HTML object>"
      ]
     },
     "metadata": {},
     "output_type": "display_data"
    },
    {
     "name": "stdout",
     "output_type": "stream",
     "text": [
      "Downloading: 100%|\u001b[32m██████████\u001b[0m|\n"
     ]
    }
   ],
   "source": [
    "exec(code)"
   ]
  },
  {
   "cell_type": "code",
   "execution_count": 42,
   "id": "NEVsHZI1T9FR",
   "metadata": {
    "colab": {
     "base_uri": "https://localhost:8080/",
     "height": 399
    },
    "executionInfo": {
     "elapsed": 5174,
     "status": "ok",
     "timestamp": 1731080850957,
     "user": {
      "displayName": "",
      "userId": ""
     },
     "user_tz": 300
    },
    "id": "NEVsHZI1T9FR",
    "outputId": "56ad2c6d-7752-4111-b4d2-47f29daebd84"
   },
   "outputs": [
    {
     "data": {
      "text/html": [],
      "text/plain": [
       "<IPython.core.display.HTML object>"
      ]
     },
     "metadata": {},
     "output_type": "display_data"
    },
    {
     "name": "stdout",
     "output_type": "stream",
     "text": [
      "Question 7\n",
      "import pandas_gbq\n",
      "from google.cloud import bigquery\n",
      "\n",
      "project_id = \"isb-cgc-external-004\"\n",
      "\n",
      "query = \"\"\"\n",
      "SELECT\n",
      "  development_stage,\n",
      "  count(distinct(iObs)) AS Number_Cells,\n",
      "  count(distinct(sex)) AS Unique_Sex_Grouping,\n",
      "  count(distinct(donor_id)) AS Number_Samples,\n",
      "  count(distinct(cell_type)) AS Number_Cell_Types,\n",
      "  count(distinct(treatment)) AS Number_Therapies\n",
      "FROM\n",
      "  `isb-cgc-bq.HTAN.scRNAseq_MSK_SCLC_combined_samples_current`\n",
      "GROUP BY development_stage\n",
      "ORDER BY Number_Samples DESC\n",
      "\"\"\"\n",
      "\n",
      "df = pandas_gbq.read_gbq(query, project_id=project_id)\n",
      "Downloading: 100%|\u001b[32m██████████\u001b[0m|\n"
     ]
    }
   ],
   "source": [
    "# Question 7\n",
    "print(\"Question 7\")\n",
    "code = generate(\"What are the counts of unique cells, sex groupings, samples, cell types, and therapies by development stage in the MSK scRNAseq dataset?\")\n",
    "exec(code)"
   ]
  },
  {
   "cell_type": "code",
   "execution_count": 43,
   "id": "PfaRR-0xNVNV",
   "metadata": {
    "colab": {
     "base_uri": "https://localhost:8080/",
     "height": 364
    },
    "executionInfo": {
     "elapsed": 2602,
     "status": "ok",
     "timestamp": 1731080859526,
     "user": {
      "displayName": "",
      "userId": ""
     },
     "user_tz": 300
    },
    "id": "PfaRR-0xNVNV",
    "outputId": "52c68a1f-c0e5-4420-8d50-b4a2a0ade657"
   },
   "outputs": [
    {
     "data": {
      "text/html": [],
      "text/plain": [
       "<IPython.core.display.HTML object>"
      ]
     },
     "metadata": {},
     "output_type": "display_data"
    },
    {
     "name": "stdout",
     "output_type": "stream",
     "text": [
      "Question 8\n",
      "import pandas_gbq\n",
      "from google.cloud import bigquery\n",
      "\n",
      "project_id = \"isb-cgc-external-004\"\n",
      "\n",
      "query = \"\"\"\n",
      "SELECT\n",
      "  COUNT(DISTINCT cell_type) AS Unique_Cell_Types,\n",
      "  COUNT(DISTINCT sex) AS Unique_Sex_Groupings,\n",
      "  COUNT(DISTINCT iObs) AS Number_Cells,\n",
      "  COUNT(DISTINCT donor_id) AS Number_Samples\n",
      "FROM\n",
      "  `isb-cgc-bq.HTAN.scRNAseq_MSK_SCLC_combined_samples_current`\n",
      "WHERE\n",
      "  development_stage = '74-year-old human stage'\n",
      "\"\"\"\n",
      "\n",
      "df = pandas_gbq.read_gbq(query, project_id=project_id)\n",
      "Downloading: 100%|\u001b[32m██████████\u001b[0m|\n"
     ]
    }
   ],
   "source": [
    "# Question 8\n",
    "print(\"Question 8\")\n",
    "code = generate(\"How many unique cell types, sex groupings, cells, and samples are present in a specific human stage of development in the MSK scRNAseq dataset (e.g. 74-year-old)?\")\n",
    "exec(code)"
   ]
  },
  {
   "cell_type": "code",
   "execution_count": 44,
   "id": "vli3QA6KT-xU",
   "metadata": {
    "colab": {
     "base_uri": "https://localhost:8080/",
     "height": 364
    },
    "executionInfo": {
     "elapsed": 3148,
     "status": "ok",
     "timestamp": 1731080864359,
     "user": {
      "displayName": "",
      "userId": ""
     },
     "user_tz": 300
    },
    "id": "vli3QA6KT-xU",
    "outputId": "0bfdaaf0-a132-4d9e-8c5a-e355e0d9e979"
   },
   "outputs": [
    {
     "data": {
      "text/html": [],
      "text/plain": [
       "<IPython.core.display.HTML object>"
      ]
     },
     "metadata": {},
     "output_type": "display_data"
    },
    {
     "name": "stdout",
     "output_type": "stream",
     "text": [
      "Question 9\n",
      "import pandas_gbq\n",
      "from google.cloud import bigquery\n",
      "\n",
      "project_id = \"isb-cgc-external-004\"\n",
      "\n",
      "query = '''\n",
      "SELECT\n",
      "  sex,\n",
      "  Cell_Type,\n",
      "  count(distinct(feature_name)) AS Number_Genes,\n",
      "  count(distinct(iObs)) AS Number_Cells\n",
      "FROM\n",
      "  `isb-cgc-bq.HTAN.scRNAseq_MSK_SCLC_combined_samples_current`\n",
      "WHERE development_stage = '74-year-old human stage'\n",
      "GROUP BY sex, Cell_Type\n",
      "ORDER BY Cell_Type DESC\n",
      "'''\n",
      "df = pandas_gbq.read_gbq(query, project_id=project_id)\n",
      "Downloading: 100%|\u001b[32m██████████\u001b[0m|\n"
     ]
    }
   ],
   "source": [
    "# Question 9\n",
    "print(\"Question 9\")\n",
    "code = generate(\"How many genes and cells are associated with each sex and cell type in the MSK scRNAseq dataset for an individual (e.g. a 74-year-old human stage)?\")\n",
    "exec(code)"
   ]
  },
  {
   "cell_type": "code",
   "execution_count": 45,
   "id": "4ibscoQ-T_u_",
   "metadata": {
    "colab": {
     "base_uri": "https://localhost:8080/",
     "height": 399
    },
    "executionInfo": {
     "elapsed": 2715,
     "status": "ok",
     "timestamp": 1731080867492,
     "user": {
      "displayName": "",
      "userId": ""
     },
     "user_tz": 300
    },
    "id": "4ibscoQ-T_u_",
    "outputId": "4bb25e06-67e9-447c-a680-bcccab078c42"
   },
   "outputs": [
    {
     "data": {
      "text/html": [],
      "text/plain": [
       "<IPython.core.display.HTML object>"
      ]
     },
     "metadata": {},
     "output_type": "display_data"
    },
    {
     "name": "stdout",
     "output_type": "stream",
     "text": [
      "Question 10\n",
      "import pandas_gbq\n",
      "from google.cloud import bigquery\n",
      "\n",
      "project_id = \"isb-cgc-external-004\"\n",
      "\n",
      "query = \"\"\"\n",
      "SELECT\n",
      "  sex,\n",
      "  clusters,\n",
      "  Cell_Type,\n",
      "  count(distinct(feature_name)) AS Number_Genes,\n",
      "  count(distinct(iObs)) AS Number_Cells\n",
      "FROM\n",
      "  `isb-cgc-bq.HTAN.scRNAseq_MSK_SCLC_combined_samples_current`\n",
      "WHERE development_stage = '74-year-old human stage' AND Cell_Type = 'epithelial cell'\n",
      "GROUP BY sex, clusters, Cell_Type\n",
      "ORDER BY clusters ASC\n",
      "\"\"\"\n",
      "\n",
      "df = pandas_gbq.read_gbq(query, project_id=project_id)\n",
      "Downloading: 100%|\u001b[32m██████████\u001b[0m|\n"
     ]
    }
   ],
   "source": [
    "# Question 10\n",
    "print(\"Question 10\")\n",
    "code = generate(\"How many genes and cells are there in each Seurat Cluster for males and females of the 'epithelial cell' type in the specific human stage (here 74-year-old)?\")\n",
    "exec(code)"
   ]
  },
  {
   "cell_type": "markdown",
   "id": "oc9EFiyVWkF0",
   "metadata": {
    "id": "oc9EFiyVWkF0"
   },
   "source": [
    "## Notes\n",
    "* Users must have a google cloud account with credits\n",
    "* Users must also have a Synapse account with token for API Access\n",
    "\n",
    "## Challenges and future improvements\n",
    "* We need to incorporate some error checking . We can incorporate an if-else chunks to check if the code generated is a BigQuery code to ensure no random questions are asked. A more sophisticated way is to use an error checking agent that only handles errors\n",
    "\n",
    "* Currently the data downloaded to `content` which is local to this platform. Future work could download files to a google bucket.\n",
    "\n",
    "Future work could involve adding more queries to the agent is able to handle a variety of different questions."
   ]
  }
 ],
 "metadata": {
  "colab": {
   "name": "agent1_kb",
   "provenance": []
  },
  "kernelspec": {
   "display_name": "Python 3",
   "language": "python",
   "name": "python3"
  },
  "language_info": {
   "codemirror_mode": {
    "name": "ipython",
    "version": 3
   },
   "file_extension": ".py",
   "mimetype": "text/x-python",
   "name": "python",
   "nbconvert_exporter": "python",
   "pygments_lexer": "ipython3",
   "version": "3.10.10"
  }
 },
 "nbformat": 4,
 "nbformat_minor": 5
}
